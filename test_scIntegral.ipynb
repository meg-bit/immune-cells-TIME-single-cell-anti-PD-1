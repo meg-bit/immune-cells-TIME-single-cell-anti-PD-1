{
 "cells": [
  {
   "cell_type": "code",
   "execution_count": 4,
   "id": "43352aaa",
   "metadata": {
    "scrolled": true
   },
   "outputs": [],
   "source": [
    "import scintegral.classifier as scint_classifier\n",
    "import scintegral.utils as scint_utils"
   ]
  },
  {
   "cell_type": "code",
   "execution_count": 2,
   "id": "bbb9447e",
   "metadata": {},
   "outputs": [],
   "source": [
    "# import scintegral"
   ]
  },
  {
   "cell_type": "code",
   "execution_count": 3,
   "id": "8c35a378",
   "metadata": {},
   "outputs": [
    {
     "name": "stdout",
     "output_type": "stream",
     "text": [
      "Help on package scintegral:\n",
      "\n",
      "NAME\n",
      "    scintegral\n",
      "\n",
      "DESCRIPTION\n",
      "    scIntegral\n",
      "    ~~~~~~~~~~\n",
      "    \n",
      "    :copyright: (c) 2020 by Hanbin Lee\n",
      "    :license: GPL version 2.\n",
      "\n",
      "PACKAGE CONTENTS\n",
      "    classifier\n",
      "    utils\n",
      "\n",
      "VERSION\n",
      "    0.1.2\n",
      "\n",
      "FILE\n",
      "    /Users/margaretpaiva/miniconda3/envs/r-env2/lib/python3.10/site-packages/scintegral/__init__.py\n",
      "\n",
      "\n"
     ]
    }
   ],
   "source": [
    "# help(scintegral)"
   ]
  },
  {
   "cell_type": "code",
   "execution_count": null,
   "id": "0a3fb8ca",
   "metadata": {},
   "outputs": [],
   "source": [
    "marker_dict = {\n",
    "\n",
    "\t'Fibroblasts':['Col3a1', 'Col8a1'],\n",
    "    \n",
    "\n",
    "}"
   ]
  }
 ],
 "metadata": {
  "kernelspec": {
   "display_name": "Python 3 (ipykernel)",
   "language": "python",
   "name": "python3"
  },
  "language_info": {
   "codemirror_mode": {
    "name": "ipython",
    "version": 3
   },
   "file_extension": ".py",
   "mimetype": "text/x-python",
   "name": "python",
   "nbconvert_exporter": "python",
   "pygments_lexer": "ipython3",
   "version": "3.10.2"
  }
 },
 "nbformat": 4,
 "nbformat_minor": 5
}
