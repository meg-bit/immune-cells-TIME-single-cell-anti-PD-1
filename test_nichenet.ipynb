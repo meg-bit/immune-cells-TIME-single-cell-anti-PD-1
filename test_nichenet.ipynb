{
 "cells": [
  {
   "cell_type": "code",
   "execution_count": 6,
   "id": "d9240117",
   "metadata": {},
   "outputs": [],
   "source": [
    "# if (!requireNamespace(\"remotes\", quietly = TRUE)) {\n",
    "#   install.packages(\"remotes\")\n",
    "# }\n",
    "# remotes::install_github(\"mojaveazure/seurat-disk\", upgrade = FALSE)"
   ]
  },
  {
   "cell_type": "code",
   "execution_count": 1,
   "id": "6042c1e1",
   "metadata": {},
   "outputs": [
    {
     "name": "stderr",
     "output_type": "stream",
     "text": [
      "Attaching SeuratObject\n",
      "\n",
      "Attaching sp\n",
      "\n",
      "── \u001b[1mAttaching packages\u001b[22m ──────────────────────────────────────────────────────────────────────── tidyverse 1.3.1 ──\n",
      "\n",
      "\u001b[32m✔\u001b[39m \u001b[34mggplot2\u001b[39m 3.3.6     \u001b[32m✔\u001b[39m \u001b[34mpurrr  \u001b[39m 0.3.4\n",
      "\u001b[32m✔\u001b[39m \u001b[34mtibble \u001b[39m 3.1.8     \u001b[32m✔\u001b[39m \u001b[34mdplyr  \u001b[39m 1.0.9\n",
      "\u001b[32m✔\u001b[39m \u001b[34mtidyr  \u001b[39m 1.2.0     \u001b[32m✔\u001b[39m \u001b[34mstringr\u001b[39m 1.4.0\n",
      "\u001b[32m✔\u001b[39m \u001b[34mreadr  \u001b[39m 2.1.2     \u001b[32m✔\u001b[39m \u001b[34mforcats\u001b[39m 0.5.1\n",
      "\n",
      "── \u001b[1mConflicts\u001b[22m ─────────────────────────────────────────────────────────────────────────── tidyverse_conflicts() ──\n",
      "\u001b[31m✖\u001b[39m \u001b[34mdplyr\u001b[39m::\u001b[32mfilter()\u001b[39m masks \u001b[34mstats\u001b[39m::filter()\n",
      "\u001b[31m✖\u001b[39m \u001b[34mdplyr\u001b[39m::\u001b[32mlag()\u001b[39m    masks \u001b[34mstats\u001b[39m::lag()\n",
      "\n",
      "\n",
      "Attaching package: ‘anndata’\n",
      "\n",
      "\n",
      "The following object is masked from ‘package:readr’:\n",
      "\n",
      "    read_csv\n",
      "\n",
      "\n"
     ]
    }
   ],
   "source": [
    "library(nichenetr)\n",
    "library(Seurat) # please update to Seurat V4\n",
    "# library(SeuratObject)\n",
    "library(tidyverse)\n",
    "library(anndata)"
   ]
  },
  {
   "cell_type": "code",
   "execution_count": 2,
   "id": "1dceeb10",
   "metadata": {},
   "outputs": [
    {
     "data": {
      "text/plain": [
       "[1] ‘4.1.1’"
      ]
     },
     "metadata": {},
     "output_type": "display_data"
    }
   ],
   "source": [
    "utils::packageVersion('Seurat')"
   ]
  },
  {
   "cell_type": "code",
   "execution_count": 3,
   "id": "824741e5",
   "metadata": {},
   "outputs": [
    {
     "data": {
      "text/plain": [
       "AnnData object with n_obs × n_vars = 16215 × 45884\n",
       "    obs: 'Sample name', 'source name', 'organism', 'sample_id', 'response', 'therapy', 'patient_id', 'time_point', 'n_genes', 'n_genes_by_counts', 'total_counts', 'total_counts_mt', 'pct_counts_mt', 'cell_type'\n",
       "    var: 'n_cells', 'mt', 'n_cells_by_counts', 'mean_counts', 'pct_dropout_by_counts', 'total_counts'\n",
       "    uns: 'cell_type_colors', 'neighbors', 'pca', 'rank_genes_groups', 'umap'\n",
       "    obsm: 'X_pca', 'X_umap'\n",
       "    varm: 'PCs'\n",
       "    obsp: 'connectivities', 'distances'"
      ]
     },
     "metadata": {},
     "output_type": "display_data"
    }
   ],
   "source": [
    "# seuratObj = readRDS('data/seuratObj.rds')\n",
    "adata = read_h5ad('data/GSE120575_annotated.h5ad')\n",
    "adata"
   ]
  },
  {
   "cell_type": "code",
   "execution_count": 7,
   "id": "eedc7b0d",
   "metadata": {},
   "outputs": [
    {
     "data": {
      "text/html": [
       "<table class=\"dataframe\">\n",
       "<caption>A matrix: 6 × 45884 of type dbl</caption>\n",
       "<thead>\n",
       "\t<tr><th></th><th scope=col>TSPAN6</th><th scope=col>TNMD</th><th scope=col>DPM1</th><th scope=col>SCYL3</th><th scope=col>C1orf112</th><th scope=col>FGR</th><th scope=col>CFH</th><th scope=col>FUCA2</th><th scope=col>GCLC</th><th scope=col>NFYA</th><th scope=col>⋯</th><th scope=col>RP11-126K1.9</th><th scope=col>RP4-671G15.2</th><th scope=col>OR6R2P</th><th scope=col>RP11-225H22.7</th><th scope=col>RP11-731C17.2</th><th scope=col>RP4-621B10.8</th><th scope=col>RP11-114I8.4</th><th scope=col>RP11-180C16.1</th><th scope=col>AP000230.1</th><th scope=col>RP11-80H18.4</th></tr>\n",
       "</thead>\n",
       "<tbody>\n",
       "\t<tr><th scope=row>A10_P3_M11</th><td>0</td><td>0</td><td>0.00</td><td>0</td><td>0</td><td>0</td><td>0</td><td>0</td><td>0.00</td><td>0</td><td>⋯</td><td>0</td><td>0</td><td>0</td><td>0</td><td>8.1</td><td>0</td><td>0</td><td>0.0</td><td>0</td><td>0</td></tr>\n",
       "\t<tr><th scope=row>A11_P1_M11</th><td>0</td><td>0</td><td>9.24</td><td>0</td><td>0</td><td>0</td><td>0</td><td>0</td><td>1.01</td><td>0</td><td>⋯</td><td>0</td><td>0</td><td>0</td><td>0</td><td>0.0</td><td>0</td><td>0</td><td>0.0</td><td>0</td><td>0</td></tr>\n",
       "\t<tr><th scope=row>A11_P3_M11</th><td>0</td><td>0</td><td>0.00</td><td>0</td><td>0</td><td>0</td><td>0</td><td>0</td><td>0.00</td><td>0</td><td>⋯</td><td>0</td><td>0</td><td>0</td><td>0</td><td>0.0</td><td>0</td><td>0</td><td>0.0</td><td>0</td><td>0</td></tr>\n",
       "\t<tr><th scope=row>A11_P4_M11</th><td>0</td><td>0</td><td>7.99</td><td>0</td><td>0</td><td>0</td><td>0</td><td>0</td><td>0.00</td><td>0</td><td>⋯</td><td>0</td><td>0</td><td>0</td><td>0</td><td>0.0</td><td>0</td><td>0</td><td>0.0</td><td>0</td><td>0</td></tr>\n",
       "\t<tr><th scope=row>A12_P3_M11</th><td>0</td><td>0</td><td>0.00</td><td>0</td><td>0</td><td>0</td><td>0</td><td>0</td><td>0.00</td><td>0</td><td>⋯</td><td>0</td><td>0</td><td>0</td><td>0</td><td>0.0</td><td>0</td><td>0</td><td>0.0</td><td>0</td><td>0</td></tr>\n",
       "\t<tr><th scope=row>A12_P6_M11</th><td>0</td><td>0</td><td>0.00</td><td>0</td><td>0</td><td>0</td><td>0</td><td>0</td><td>0.00</td><td>0</td><td>⋯</td><td>0</td><td>0</td><td>0</td><td>0</td><td>0.0</td><td>0</td><td>0</td><td>1.1</td><td>0</td><td>0</td></tr>\n",
       "</tbody>\n",
       "</table>\n"
      ],
      "text/latex": [
       "A matrix: 6 × 45884 of type dbl\n",
       "\\begin{tabular}{r|lllllllllllllllllllll}\n",
       "  & TSPAN6 & TNMD & DPM1 & SCYL3 & C1orf112 & FGR & CFH & FUCA2 & GCLC & NFYA & ⋯ & RP11-126K1.9 & RP4-671G15.2 & OR6R2P & RP11-225H22.7 & RP11-731C17.2 & RP4-621B10.8 & RP11-114I8.4 & RP11-180C16.1 & AP000230.1 & RP11-80H18.4\\\\\n",
       "\\hline\n",
       "\tA10\\_P3\\_M11 & 0 & 0 & 0.00 & 0 & 0 & 0 & 0 & 0 & 0.00 & 0 & ⋯ & 0 & 0 & 0 & 0 & 8.1 & 0 & 0 & 0.0 & 0 & 0\\\\\n",
       "\tA11\\_P1\\_M11 & 0 & 0 & 9.24 & 0 & 0 & 0 & 0 & 0 & 1.01 & 0 & ⋯ & 0 & 0 & 0 & 0 & 0.0 & 0 & 0 & 0.0 & 0 & 0\\\\\n",
       "\tA11\\_P3\\_M11 & 0 & 0 & 0.00 & 0 & 0 & 0 & 0 & 0 & 0.00 & 0 & ⋯ & 0 & 0 & 0 & 0 & 0.0 & 0 & 0 & 0.0 & 0 & 0\\\\\n",
       "\tA11\\_P4\\_M11 & 0 & 0 & 7.99 & 0 & 0 & 0 & 0 & 0 & 0.00 & 0 & ⋯ & 0 & 0 & 0 & 0 & 0.0 & 0 & 0 & 0.0 & 0 & 0\\\\\n",
       "\tA12\\_P3\\_M11 & 0 & 0 & 0.00 & 0 & 0 & 0 & 0 & 0 & 0.00 & 0 & ⋯ & 0 & 0 & 0 & 0 & 0.0 & 0 & 0 & 0.0 & 0 & 0\\\\\n",
       "\tA12\\_P6\\_M11 & 0 & 0 & 0.00 & 0 & 0 & 0 & 0 & 0 & 0.00 & 0 & ⋯ & 0 & 0 & 0 & 0 & 0.0 & 0 & 0 & 1.1 & 0 & 0\\\\\n",
       "\\end{tabular}\n"
      ],
      "text/markdown": [
       "\n",
       "A matrix: 6 × 45884 of type dbl\n",
       "\n",
       "| <!--/--> | TSPAN6 | TNMD | DPM1 | SCYL3 | C1orf112 | FGR | CFH | FUCA2 | GCLC | NFYA | ⋯ | RP11-126K1.9 | RP4-671G15.2 | OR6R2P | RP11-225H22.7 | RP11-731C17.2 | RP4-621B10.8 | RP11-114I8.4 | RP11-180C16.1 | AP000230.1 | RP11-80H18.4 |\n",
       "|---|---|---|---|---|---|---|---|---|---|---|---|---|---|---|---|---|---|---|---|---|---|\n",
       "| A10_P3_M11 | 0 | 0 | 0.00 | 0 | 0 | 0 | 0 | 0 | 0.00 | 0 | ⋯ | 0 | 0 | 0 | 0 | 8.1 | 0 | 0 | 0.0 | 0 | 0 |\n",
       "| A11_P1_M11 | 0 | 0 | 9.24 | 0 | 0 | 0 | 0 | 0 | 1.01 | 0 | ⋯ | 0 | 0 | 0 | 0 | 0.0 | 0 | 0 | 0.0 | 0 | 0 |\n",
       "| A11_P3_M11 | 0 | 0 | 0.00 | 0 | 0 | 0 | 0 | 0 | 0.00 | 0 | ⋯ | 0 | 0 | 0 | 0 | 0.0 | 0 | 0 | 0.0 | 0 | 0 |\n",
       "| A11_P4_M11 | 0 | 0 | 7.99 | 0 | 0 | 0 | 0 | 0 | 0.00 | 0 | ⋯ | 0 | 0 | 0 | 0 | 0.0 | 0 | 0 | 0.0 | 0 | 0 |\n",
       "| A12_P3_M11 | 0 | 0 | 0.00 | 0 | 0 | 0 | 0 | 0 | 0.00 | 0 | ⋯ | 0 | 0 | 0 | 0 | 0.0 | 0 | 0 | 0.0 | 0 | 0 |\n",
       "| A12_P6_M11 | 0 | 0 | 0.00 | 0 | 0 | 0 | 0 | 0 | 0.00 | 0 | ⋯ | 0 | 0 | 0 | 0 | 0.0 | 0 | 0 | 1.1 | 0 | 0 |\n",
       "\n"
      ],
      "text/plain": [
       "           TSPAN6 TNMD DPM1 SCYL3 C1orf112 FGR CFH FUCA2 GCLC NFYA ⋯\n",
       "A10_P3_M11 0      0    0.00 0     0        0   0   0     0.00 0    ⋯\n",
       "A11_P1_M11 0      0    9.24 0     0        0   0   0     1.01 0    ⋯\n",
       "A11_P3_M11 0      0    0.00 0     0        0   0   0     0.00 0    ⋯\n",
       "A11_P4_M11 0      0    7.99 0     0        0   0   0     0.00 0    ⋯\n",
       "A12_P3_M11 0      0    0.00 0     0        0   0   0     0.00 0    ⋯\n",
       "A12_P6_M11 0      0    0.00 0     0        0   0   0     0.00 0    ⋯\n",
       "           RP11-126K1.9 RP4-671G15.2 OR6R2P RP11-225H22.7 RP11-731C17.2\n",
       "A10_P3_M11 0            0            0      0             8.1          \n",
       "A11_P1_M11 0            0            0      0             0.0          \n",
       "A11_P3_M11 0            0            0      0             0.0          \n",
       "A11_P4_M11 0            0            0      0             0.0          \n",
       "A12_P3_M11 0            0            0      0             0.0          \n",
       "A12_P6_M11 0            0            0      0             0.0          \n",
       "           RP4-621B10.8 RP11-114I8.4 RP11-180C16.1 AP000230.1 RP11-80H18.4\n",
       "A10_P3_M11 0            0            0.0           0          0           \n",
       "A11_P1_M11 0            0            0.0           0          0           \n",
       "A11_P3_M11 0            0            0.0           0          0           \n",
       "A11_P4_M11 0            0            0.0           0          0           \n",
       "A12_P3_M11 0            0            0.0           0          0           \n",
       "A12_P6_M11 0            0            1.1           0          0           "
      ]
     },
     "metadata": {},
     "output_type": "display_data"
    }
   ],
   "source": [
    "head(adata$X)"
   ]
  },
  {
   "cell_type": "code",
   "execution_count": 9,
   "id": "797956ed",
   "metadata": {},
   "outputs": [
    {
     "data": {
      "text/html": [
       "<table class=\"dataframe\">\n",
       "<caption>A matrix: 6 × 45884 of type dbl</caption>\n",
       "<thead>\n",
       "\t<tr><th></th><th scope=col>TSPAN6</th><th scope=col>TNMD</th><th scope=col>DPM1</th><th scope=col>SCYL3</th><th scope=col>C1orf112</th><th scope=col>FGR</th><th scope=col>CFH</th><th scope=col>FUCA2</th><th scope=col>GCLC</th><th scope=col>NFYA</th><th scope=col>⋯</th><th scope=col>RP11-126K1.9</th><th scope=col>RP4-671G15.2</th><th scope=col>OR6R2P</th><th scope=col>RP11-225H22.7</th><th scope=col>RP11-731C17.2</th><th scope=col>RP4-621B10.8</th><th scope=col>RP11-114I8.4</th><th scope=col>RP11-180C16.1</th><th scope=col>AP000230.1</th><th scope=col>RP11-80H18.4</th></tr>\n",
       "</thead>\n",
       "<tbody>\n",
       "\t<tr><th scope=row>H4_P5_M67_L001_T_enriched</th><td>0</td><td>0</td><td>0.00</td><td>0</td><td>0.61</td><td>6.72</td><td>0</td><td>0</td><td>0.00</td><td>0</td><td>⋯</td><td>0</td><td>0</td><td>0</td><td>0</td><td>0.0</td><td>0</td><td>0</td><td>0</td><td>0</td><td>0</td></tr>\n",
       "\t<tr><th scope=row>H5_P5_M67_L001_T_enriched</th><td>0</td><td>0</td><td>7.34</td><td>0</td><td>7.65</td><td>0.00</td><td>0</td><td>0</td><td>0.00</td><td>0</td><td>⋯</td><td>0</td><td>0</td><td>0</td><td>0</td><td>1.7</td><td>0</td><td>0</td><td>0</td><td>0</td><td>0</td></tr>\n",
       "\t<tr><th scope=row>H6_P5_M67_L001_T_enriched</th><td>0</td><td>0</td><td>0.00</td><td>0</td><td>0.00</td><td>0.00</td><td>0</td><td>0</td><td>0.00</td><td>0</td><td>⋯</td><td>0</td><td>0</td><td>0</td><td>0</td><td>0.0</td><td>0</td><td>0</td><td>0</td><td>0</td><td>0</td></tr>\n",
       "\t<tr><th scope=row>H7_P5_M67_L001_T_enriched</th><td>0</td><td>0</td><td>0.00</td><td>0</td><td>0.00</td><td>0.00</td><td>0</td><td>0</td><td>0.00</td><td>0</td><td>⋯</td><td>0</td><td>0</td><td>0</td><td>0</td><td>0.0</td><td>0</td><td>0</td><td>0</td><td>0</td><td>0</td></tr>\n",
       "\t<tr><th scope=row>H8_P5_M67_L001_T_enriched</th><td>0</td><td>0</td><td>0.00</td><td>0</td><td>0.00</td><td>0.00</td><td>0</td><td>0</td><td>1.81</td><td>0</td><td>⋯</td><td>0</td><td>0</td><td>0</td><td>0</td><td>0.0</td><td>0</td><td>0</td><td>0</td><td>0</td><td>0</td></tr>\n",
       "\t<tr><th scope=row>H9_P5_M67_L001_T_enriched</th><td>0</td><td>0</td><td>0.00</td><td>0</td><td>0.00</td><td>0.00</td><td>0</td><td>0</td><td>0.00</td><td>0</td><td>⋯</td><td>0</td><td>0</td><td>0</td><td>0</td><td>0.0</td><td>0</td><td>0</td><td>0</td><td>0</td><td>0</td></tr>\n",
       "</tbody>\n",
       "</table>\n"
      ],
      "text/latex": [
       "A matrix: 6 × 45884 of type dbl\n",
       "\\begin{tabular}{r|lllllllllllllllllllll}\n",
       "  & TSPAN6 & TNMD & DPM1 & SCYL3 & C1orf112 & FGR & CFH & FUCA2 & GCLC & NFYA & ⋯ & RP11-126K1.9 & RP4-671G15.2 & OR6R2P & RP11-225H22.7 & RP11-731C17.2 & RP4-621B10.8 & RP11-114I8.4 & RP11-180C16.1 & AP000230.1 & RP11-80H18.4\\\\\n",
       "\\hline\n",
       "\tH4\\_P5\\_M67\\_L001\\_T\\_enriched & 0 & 0 & 0.00 & 0 & 0.61 & 6.72 & 0 & 0 & 0.00 & 0 & ⋯ & 0 & 0 & 0 & 0 & 0.0 & 0 & 0 & 0 & 0 & 0\\\\\n",
       "\tH5\\_P5\\_M67\\_L001\\_T\\_enriched & 0 & 0 & 7.34 & 0 & 7.65 & 0.00 & 0 & 0 & 0.00 & 0 & ⋯ & 0 & 0 & 0 & 0 & 1.7 & 0 & 0 & 0 & 0 & 0\\\\\n",
       "\tH6\\_P5\\_M67\\_L001\\_T\\_enriched & 0 & 0 & 0.00 & 0 & 0.00 & 0.00 & 0 & 0 & 0.00 & 0 & ⋯ & 0 & 0 & 0 & 0 & 0.0 & 0 & 0 & 0 & 0 & 0\\\\\n",
       "\tH7\\_P5\\_M67\\_L001\\_T\\_enriched & 0 & 0 & 0.00 & 0 & 0.00 & 0.00 & 0 & 0 & 0.00 & 0 & ⋯ & 0 & 0 & 0 & 0 & 0.0 & 0 & 0 & 0 & 0 & 0\\\\\n",
       "\tH8\\_P5\\_M67\\_L001\\_T\\_enriched & 0 & 0 & 0.00 & 0 & 0.00 & 0.00 & 0 & 0 & 1.81 & 0 & ⋯ & 0 & 0 & 0 & 0 & 0.0 & 0 & 0 & 0 & 0 & 0\\\\\n",
       "\tH9\\_P5\\_M67\\_L001\\_T\\_enriched & 0 & 0 & 0.00 & 0 & 0.00 & 0.00 & 0 & 0 & 0.00 & 0 & ⋯ & 0 & 0 & 0 & 0 & 0.0 & 0 & 0 & 0 & 0 & 0\\\\\n",
       "\\end{tabular}\n"
      ],
      "text/markdown": [
       "\n",
       "A matrix: 6 × 45884 of type dbl\n",
       "\n",
       "| <!--/--> | TSPAN6 | TNMD | DPM1 | SCYL3 | C1orf112 | FGR | CFH | FUCA2 | GCLC | NFYA | ⋯ | RP11-126K1.9 | RP4-671G15.2 | OR6R2P | RP11-225H22.7 | RP11-731C17.2 | RP4-621B10.8 | RP11-114I8.4 | RP11-180C16.1 | AP000230.1 | RP11-80H18.4 |\n",
       "|---|---|---|---|---|---|---|---|---|---|---|---|---|---|---|---|---|---|---|---|---|---|\n",
       "| H4_P5_M67_L001_T_enriched | 0 | 0 | 0.00 | 0 | 0.61 | 6.72 | 0 | 0 | 0.00 | 0 | ⋯ | 0 | 0 | 0 | 0 | 0.0 | 0 | 0 | 0 | 0 | 0 |\n",
       "| H5_P5_M67_L001_T_enriched | 0 | 0 | 7.34 | 0 | 7.65 | 0.00 | 0 | 0 | 0.00 | 0 | ⋯ | 0 | 0 | 0 | 0 | 1.7 | 0 | 0 | 0 | 0 | 0 |\n",
       "| H6_P5_M67_L001_T_enriched | 0 | 0 | 0.00 | 0 | 0.00 | 0.00 | 0 | 0 | 0.00 | 0 | ⋯ | 0 | 0 | 0 | 0 | 0.0 | 0 | 0 | 0 | 0 | 0 |\n",
       "| H7_P5_M67_L001_T_enriched | 0 | 0 | 0.00 | 0 | 0.00 | 0.00 | 0 | 0 | 0.00 | 0 | ⋯ | 0 | 0 | 0 | 0 | 0.0 | 0 | 0 | 0 | 0 | 0 |\n",
       "| H8_P5_M67_L001_T_enriched | 0 | 0 | 0.00 | 0 | 0.00 | 0.00 | 0 | 0 | 1.81 | 0 | ⋯ | 0 | 0 | 0 | 0 | 0.0 | 0 | 0 | 0 | 0 | 0 |\n",
       "| H9_P5_M67_L001_T_enriched | 0 | 0 | 0.00 | 0 | 0.00 | 0.00 | 0 | 0 | 0.00 | 0 | ⋯ | 0 | 0 | 0 | 0 | 0.0 | 0 | 0 | 0 | 0 | 0 |\n",
       "\n"
      ],
      "text/plain": [
       "                          TSPAN6 TNMD DPM1 SCYL3 C1orf112 FGR  CFH FUCA2 GCLC\n",
       "H4_P5_M67_L001_T_enriched 0      0    0.00 0     0.61     6.72 0   0     0.00\n",
       "H5_P5_M67_L001_T_enriched 0      0    7.34 0     7.65     0.00 0   0     0.00\n",
       "H6_P5_M67_L001_T_enriched 0      0    0.00 0     0.00     0.00 0   0     0.00\n",
       "H7_P5_M67_L001_T_enriched 0      0    0.00 0     0.00     0.00 0   0     0.00\n",
       "H8_P5_M67_L001_T_enriched 0      0    0.00 0     0.00     0.00 0   0     1.81\n",
       "H9_P5_M67_L001_T_enriched 0      0    0.00 0     0.00     0.00 0   0     0.00\n",
       "                          NFYA ⋯ RP11-126K1.9 RP4-671G15.2 OR6R2P RP11-225H22.7\n",
       "H4_P5_M67_L001_T_enriched 0    ⋯ 0            0            0      0            \n",
       "H5_P5_M67_L001_T_enriched 0    ⋯ 0            0            0      0            \n",
       "H6_P5_M67_L001_T_enriched 0    ⋯ 0            0            0      0            \n",
       "H7_P5_M67_L001_T_enriched 0    ⋯ 0            0            0      0            \n",
       "H8_P5_M67_L001_T_enriched 0    ⋯ 0            0            0      0            \n",
       "H9_P5_M67_L001_T_enriched 0    ⋯ 0            0            0      0            \n",
       "                          RP11-731C17.2 RP4-621B10.8 RP11-114I8.4 RP11-180C16.1\n",
       "H4_P5_M67_L001_T_enriched 0.0           0            0            0            \n",
       "H5_P5_M67_L001_T_enriched 1.7           0            0            0            \n",
       "H6_P5_M67_L001_T_enriched 0.0           0            0            0            \n",
       "H7_P5_M67_L001_T_enriched 0.0           0            0            0            \n",
       "H8_P5_M67_L001_T_enriched 0.0           0            0            0            \n",
       "H9_P5_M67_L001_T_enriched 0.0           0            0            0            \n",
       "                          AP000230.1 RP11-80H18.4\n",
       "H4_P5_M67_L001_T_enriched 0          0           \n",
       "H5_P5_M67_L001_T_enriched 0          0           \n",
       "H6_P5_M67_L001_T_enriched 0          0           \n",
       "H7_P5_M67_L001_T_enriched 0          0           \n",
       "H8_P5_M67_L001_T_enriched 0          0           \n",
       "H9_P5_M67_L001_T_enriched 0          0           "
      ]
     },
     "metadata": {},
     "output_type": "display_data"
    }
   ],
   "source": [
    "tail(adata$X)"
   ]
  },
  {
   "cell_type": "code",
   "execution_count": 8,
   "id": "dddedcf3",
   "metadata": {},
   "outputs": [
    {
     "data": {
      "text/html": [
       "<table class=\"dataframe\">\n",
       "<caption>A data.frame: 6 × 14</caption>\n",
       "<thead>\n",
       "\t<tr><th></th><th scope=col>Sample name</th><th scope=col>source name</th><th scope=col>organism</th><th scope=col>sample_id</th><th scope=col>response</th><th scope=col>therapy</th><th scope=col>patient_id</th><th scope=col>time_point</th><th scope=col>n_genes</th><th scope=col>n_genes_by_counts</th><th scope=col>total_counts</th><th scope=col>total_counts_mt</th><th scope=col>pct_counts_mt</th><th scope=col>cell_type</th></tr>\n",
       "\t<tr><th></th><th scope=col>&lt;chr&gt;</th><th scope=col>&lt;fct&gt;</th><th scope=col>&lt;fct&gt;</th><th scope=col>&lt;fct&gt;</th><th scope=col>&lt;fct&gt;</th><th scope=col>&lt;fct&gt;</th><th scope=col>&lt;fct&gt;</th><th scope=col>&lt;fct&gt;</th><th scope=col>&lt;dbl&gt;</th><th scope=col>&lt;dbl&gt;</th><th scope=col>&lt;dbl&gt;</th><th scope=col>&lt;dbl&gt;</th><th scope=col>&lt;dbl&gt;</th><th scope=col>&lt;fct&gt;</th></tr>\n",
       "</thead>\n",
       "<tbody>\n",
       "\t<tr><th scope=row>A10_P3_M11</th><td>Sample 1</td><td>Melanoma single cell</td><td>Homo sapiens</td><td>Pre_P1</td><td>Responder</td><td>anti-CTLA4</td><td>P1</td><td>Pre</td><td>2050</td><td>2050</td><td>14624.81</td><td>171.21</td><td>1.1706818</td><td>Dendritic cells   </td></tr>\n",
       "\t<tr><th scope=row>A11_P1_M11</th><td>Sample 2</td><td>Melanoma single cell</td><td>Homo sapiens</td><td>Pre_P1</td><td>Responder</td><td>anti-CTLA4</td><td>P1</td><td>Pre</td><td>1573</td><td>1573</td><td>11933.60</td><td>160.35</td><td>1.3436852</td><td>B cells           </td></tr>\n",
       "\t<tr><th scope=row>A11_P3_M11</th><td>Sample 3</td><td>Melanoma single cell</td><td>Homo sapiens</td><td>Pre_P1</td><td>Responder</td><td>anti-CTLA4</td><td>P1</td><td>Pre</td><td>1591</td><td>1590</td><td>11877.65</td><td>176.23</td><td>1.4837110</td><td>Memory T cells    </td></tr>\n",
       "\t<tr><th scope=row>A11_P4_M11</th><td>Sample 4</td><td>Melanoma single cell</td><td>Homo sapiens</td><td>Pre_P1</td><td>Responder</td><td>anti-CTLA4</td><td>P1</td><td>Pre</td><td>2909</td><td>2909</td><td>19693.54</td><td>146.83</td><td>0.7455744</td><td>Regulatory T cells</td></tr>\n",
       "\t<tr><th scope=row>A12_P3_M11</th><td>Sample 5</td><td>Melanoma single cell</td><td>Homo sapiens</td><td>Pre_P1</td><td>Responder</td><td>anti-CTLA4</td><td>P1</td><td>Pre</td><td>1211</td><td>1210</td><td> 9182.32</td><td>196.08</td><td>2.1354077</td><td>others            </td></tr>\n",
       "\t<tr><th scope=row>A12_P6_M11</th><td>Sample 6</td><td>Melanoma single cell</td><td>Homo sapiens</td><td>Pre_P1</td><td>Responder</td><td>anti-CTLA4</td><td>P1</td><td>Pre</td><td>2715</td><td>2715</td><td>18240.40</td><td>140.46</td><td>0.7700490</td><td>CD8+ T cells      </td></tr>\n",
       "</tbody>\n",
       "</table>\n"
      ],
      "text/latex": [
       "A data.frame: 6 × 14\n",
       "\\begin{tabular}{r|llllllllllllll}\n",
       "  & Sample name & source name & organism & sample\\_id & response & therapy & patient\\_id & time\\_point & n\\_genes & n\\_genes\\_by\\_counts & total\\_counts & total\\_counts\\_mt & pct\\_counts\\_mt & cell\\_type\\\\\n",
       "  & <chr> & <fct> & <fct> & <fct> & <fct> & <fct> & <fct> & <fct> & <dbl> & <dbl> & <dbl> & <dbl> & <dbl> & <fct>\\\\\n",
       "\\hline\n",
       "\tA10\\_P3\\_M11 & Sample 1 & Melanoma single cell & Homo sapiens & Pre\\_P1 & Responder & anti-CTLA4 & P1 & Pre & 2050 & 2050 & 14624.81 & 171.21 & 1.1706818 & Dendritic cells   \\\\\n",
       "\tA11\\_P1\\_M11 & Sample 2 & Melanoma single cell & Homo sapiens & Pre\\_P1 & Responder & anti-CTLA4 & P1 & Pre & 1573 & 1573 & 11933.60 & 160.35 & 1.3436852 & B cells           \\\\\n",
       "\tA11\\_P3\\_M11 & Sample 3 & Melanoma single cell & Homo sapiens & Pre\\_P1 & Responder & anti-CTLA4 & P1 & Pre & 1591 & 1590 & 11877.65 & 176.23 & 1.4837110 & Memory T cells    \\\\\n",
       "\tA11\\_P4\\_M11 & Sample 4 & Melanoma single cell & Homo sapiens & Pre\\_P1 & Responder & anti-CTLA4 & P1 & Pre & 2909 & 2909 & 19693.54 & 146.83 & 0.7455744 & Regulatory T cells\\\\\n",
       "\tA12\\_P3\\_M11 & Sample 5 & Melanoma single cell & Homo sapiens & Pre\\_P1 & Responder & anti-CTLA4 & P1 & Pre & 1211 & 1210 &  9182.32 & 196.08 & 2.1354077 & others            \\\\\n",
       "\tA12\\_P6\\_M11 & Sample 6 & Melanoma single cell & Homo sapiens & Pre\\_P1 & Responder & anti-CTLA4 & P1 & Pre & 2715 & 2715 & 18240.40 & 140.46 & 0.7700490 & CD8+ T cells      \\\\\n",
       "\\end{tabular}\n"
      ],
      "text/markdown": [
       "\n",
       "A data.frame: 6 × 14\n",
       "\n",
       "| <!--/--> | Sample name &lt;chr&gt; | source name &lt;fct&gt; | organism &lt;fct&gt; | sample_id &lt;fct&gt; | response &lt;fct&gt; | therapy &lt;fct&gt; | patient_id &lt;fct&gt; | time_point &lt;fct&gt; | n_genes &lt;dbl&gt; | n_genes_by_counts &lt;dbl&gt; | total_counts &lt;dbl&gt; | total_counts_mt &lt;dbl&gt; | pct_counts_mt &lt;dbl&gt; | cell_type &lt;fct&gt; |\n",
       "|---|---|---|---|---|---|---|---|---|---|---|---|---|---|---|\n",
       "| A10_P3_M11 | Sample 1 | Melanoma single cell | Homo sapiens | Pre_P1 | Responder | anti-CTLA4 | P1 | Pre | 2050 | 2050 | 14624.81 | 171.21 | 1.1706818 | Dendritic cells    |\n",
       "| A11_P1_M11 | Sample 2 | Melanoma single cell | Homo sapiens | Pre_P1 | Responder | anti-CTLA4 | P1 | Pre | 1573 | 1573 | 11933.60 | 160.35 | 1.3436852 | B cells            |\n",
       "| A11_P3_M11 | Sample 3 | Melanoma single cell | Homo sapiens | Pre_P1 | Responder | anti-CTLA4 | P1 | Pre | 1591 | 1590 | 11877.65 | 176.23 | 1.4837110 | Memory T cells     |\n",
       "| A11_P4_M11 | Sample 4 | Melanoma single cell | Homo sapiens | Pre_P1 | Responder | anti-CTLA4 | P1 | Pre | 2909 | 2909 | 19693.54 | 146.83 | 0.7455744 | Regulatory T cells |\n",
       "| A12_P3_M11 | Sample 5 | Melanoma single cell | Homo sapiens | Pre_P1 | Responder | anti-CTLA4 | P1 | Pre | 1211 | 1210 |  9182.32 | 196.08 | 2.1354077 | others             |\n",
       "| A12_P6_M11 | Sample 6 | Melanoma single cell | Homo sapiens | Pre_P1 | Responder | anti-CTLA4 | P1 | Pre | 2715 | 2715 | 18240.40 | 140.46 | 0.7700490 | CD8+ T cells       |\n",
       "\n"
      ],
      "text/plain": [
       "           Sample name source name          organism     sample_id response \n",
       "A10_P3_M11 Sample 1    Melanoma single cell Homo sapiens Pre_P1    Responder\n",
       "A11_P1_M11 Sample 2    Melanoma single cell Homo sapiens Pre_P1    Responder\n",
       "A11_P3_M11 Sample 3    Melanoma single cell Homo sapiens Pre_P1    Responder\n",
       "A11_P4_M11 Sample 4    Melanoma single cell Homo sapiens Pre_P1    Responder\n",
       "A12_P3_M11 Sample 5    Melanoma single cell Homo sapiens Pre_P1    Responder\n",
       "A12_P6_M11 Sample 6    Melanoma single cell Homo sapiens Pre_P1    Responder\n",
       "           therapy    patient_id time_point n_genes n_genes_by_counts\n",
       "A10_P3_M11 anti-CTLA4 P1         Pre        2050    2050             \n",
       "A11_P1_M11 anti-CTLA4 P1         Pre        1573    1573             \n",
       "A11_P3_M11 anti-CTLA4 P1         Pre        1591    1590             \n",
       "A11_P4_M11 anti-CTLA4 P1         Pre        2909    2909             \n",
       "A12_P3_M11 anti-CTLA4 P1         Pre        1211    1210             \n",
       "A12_P6_M11 anti-CTLA4 P1         Pre        2715    2715             \n",
       "           total_counts total_counts_mt pct_counts_mt cell_type         \n",
       "A10_P3_M11 14624.81     171.21          1.1706818     Dendritic cells   \n",
       "A11_P1_M11 11933.60     160.35          1.3436852     B cells           \n",
       "A11_P3_M11 11877.65     176.23          1.4837110     Memory T cells    \n",
       "A11_P4_M11 19693.54     146.83          0.7455744     Regulatory T cells\n",
       "A12_P3_M11  9182.32     196.08          2.1354077     others            \n",
       "A12_P6_M11 18240.40     140.46          0.7700490     CD8+ T cells      "
      ]
     },
     "metadata": {},
     "output_type": "display_data"
    }
   ],
   "source": [
    "head(adata$obs)"
   ]
  },
  {
   "cell_type": "code",
   "execution_count": 4,
   "id": "290df57b",
   "metadata": {},
   "outputs": [
    {
     "name": "stderr",
     "output_type": "stream",
     "text": [
      "Warning message:\n",
      "“Feature names cannot have underscores ('_'), replacing with dashes ('-')”\n",
      "Warning message:\n",
      "“Invalid name supplied, making object name syntactically valid. New object name is Sample.namesource.nameorganismsample_idresponsetherapypatient_idtime_pointn_genesn_genes_by_countstotal_countstotal_counts_mtpct_counts_mtcell_type; see ?make.names for more details on syntax validity”\n"
     ]
    },
    {
     "data": {
      "text/plain": [
       "An object of class Seurat \n",
       "45884 features across 16215 samples within 1 assay \n",
       "Active assay: RNA (45884 features, 0 variable features)"
      ]
     },
     "metadata": {},
     "output_type": "display_data"
    }
   ],
   "source": [
    "seuratObj = Seurat::CreateSeuratObject(t(adata$X), \n",
    "                               project = \"GSE120575_annotated\", \n",
    "                               assay = \"RNA\",\n",
    "                               min.cells = 0, \n",
    "                               min.features = 0, \n",
    "                               names.field = 2,\n",
    "                               names.delim = \"_\", \n",
    "                               meta.data = adata$obs)\n",
    "seuratObj"
   ]
  },
  {
   "cell_type": "code",
   "execution_count": 5,
   "id": "df0f4c7f",
   "metadata": {},
   "outputs": [
    {
     "data": {
      "text/html": [
       "<style>\n",
       ".dl-inline {width: auto; margin:0; padding: 0}\n",
       ".dl-inline>dt, .dl-inline>dd {float: none; width: auto; display: inline-block}\n",
       ".dl-inline>dt::after {content: \":\\0020\"; padding-right: .5ex}\n",
       ".dl-inline>dt:not(:first-of-type) {padding-left: .5ex}\n",
       "</style><dl class=dl-inline><dt>A10_P3_M11</dt><dd>P3</dd><dt>A11_P1_M11</dt><dd>P1</dd><dt>A11_P3_M11</dt><dd>P3</dd><dt>A11_P4_M11</dt><dd>P4</dd><dt>A12_P3_M11</dt><dd>P3</dd><dt>A12_P6_M11</dt><dd>P6</dd></dl>\n",
       "\n",
       "<details>\n",
       "\t<summary style=display:list-item;cursor:pointer>\n",
       "\t\t<strong>Levels</strong>:\n",
       "\t</summary>\n",
       "\t<style>\n",
       "\t.list-inline {list-style: none; margin:0; padding: 0}\n",
       "\t.list-inline>li {display: inline-block}\n",
       "\t.list-inline>li:not(:last-child)::after {content: \"\\00b7\"; padding: 0 .5ex}\n",
       "\t</style>\n",
       "\t<ol class=list-inline><li>'P1'</li><li>'P10'</li><li>'P11'</li><li>'P12'</li><li>'P2'</li><li>'P3'</li><li>'P4'</li><li>'P5'</li><li>'P6'</li><li>'P7'</li><li>'P8'</li><li>'P9'</li></ol>\n",
       "</details>"
      ],
      "text/latex": [
       "\\begin{description*}\n",
       "\\item[A10\\textbackslash{}\\_P3\\textbackslash{}\\_M11] P3\n",
       "\\item[A11\\textbackslash{}\\_P1\\textbackslash{}\\_M11] P1\n",
       "\\item[A11\\textbackslash{}\\_P3\\textbackslash{}\\_M11] P3\n",
       "\\item[A11\\textbackslash{}\\_P4\\textbackslash{}\\_M11] P4\n",
       "\\item[A12\\textbackslash{}\\_P3\\textbackslash{}\\_M11] P3\n",
       "\\item[A12\\textbackslash{}\\_P6\\textbackslash{}\\_M11] P6\n",
       "\\end{description*}\n",
       "\n",
       "\\emph{Levels}: \\begin{enumerate*}\n",
       "\\item 'P1'\n",
       "\\item 'P10'\n",
       "\\item 'P11'\n",
       "\\item 'P12'\n",
       "\\item 'P2'\n",
       "\\item 'P3'\n",
       "\\item 'P4'\n",
       "\\item 'P5'\n",
       "\\item 'P6'\n",
       "\\item 'P7'\n",
       "\\item 'P8'\n",
       "\\item 'P9'\n",
       "\\end{enumerate*}\n"
      ],
      "text/markdown": [
       "A10_P3_M11\n",
       ":   P3A11_P1_M11\n",
       ":   P1A11_P3_M11\n",
       ":   P3A11_P4_M11\n",
       ":   P4A12_P3_M11\n",
       ":   P3A12_P6_M11\n",
       ":   P6\n",
       "\n",
       "\n",
       "**Levels**: 1. 'P1'\n",
       "2. 'P10'\n",
       "3. 'P11'\n",
       "4. 'P12'\n",
       "5. 'P2'\n",
       "6. 'P3'\n",
       "7. 'P4'\n",
       "8. 'P5'\n",
       "9. 'P6'\n",
       "10. 'P7'\n",
       "11. 'P8'\n",
       "12. 'P9'\n",
       "\n",
       "\n"
      ],
      "text/plain": [
       "A10_P3_M11 A11_P1_M11 A11_P3_M11 A11_P4_M11 A12_P3_M11 A12_P6_M11 \n",
       "        P3         P1         P3         P4         P3         P6 \n",
       "Levels: P1 P10 P11 P12 P2 P3 P4 P5 P6 P7 P8 P9"
      ]
     },
     "metadata": {},
     "output_type": "display_data"
    }
   ],
   "source": [
    "head(seuratObj@active.ident)"
   ]
  },
  {
   "cell_type": "code",
   "execution_count": 6,
   "id": "0022dc5a",
   "metadata": {},
   "outputs": [
    {
     "data": {
      "text/html": [
       "<style>\n",
       ".dl-inline {width: auto; margin:0; padding: 0}\n",
       ".dl-inline>dt, .dl-inline>dd {float: none; width: auto; display: inline-block}\n",
       ".dl-inline>dt::after {content: \":\\0020\"; padding-right: .5ex}\n",
       ".dl-inline>dt:not(:first-of-type) {padding-left: .5ex}\n",
       "</style><dl class=dl-inline><dt>W380370</dt><dd>CD8 T</dd><dt>W380372</dt><dd>CD4 T</dd><dt>W380374</dt><dd>CD4 T</dd><dt>W380378</dt><dd>CD8 T</dd><dt>W380379</dt><dd>CD4 T</dd><dt>W380381</dt><dd>CD4 T</dd></dl>\n",
       "\n",
       "<details>\n",
       "\t<summary style=display:list-item;cursor:pointer>\n",
       "\t\t<strong>Levels</strong>:\n",
       "\t</summary>\n",
       "\t<style>\n",
       "\t.list-inline {list-style: none; margin:0; padding: 0}\n",
       "\t.list-inline>li {display: inline-block}\n",
       "\t.list-inline>li:not(:last-child)::after {content: \"\\00b7\"; padding: 0 .5ex}\n",
       "\t</style>\n",
       "\t<ol class=list-inline><li>'CD8 T'</li><li>'CD4 T'</li><li>'Treg'</li><li>'B'</li><li>'NK'</li><li>'Mono'</li><li>'DC'</li></ol>\n",
       "</details>"
      ],
      "text/latex": [
       "\\begin{description*}\n",
       "\\item[W380370] CD8 T\n",
       "\\item[W380372] CD4 T\n",
       "\\item[W380374] CD4 T\n",
       "\\item[W380378] CD8 T\n",
       "\\item[W380379] CD4 T\n",
       "\\item[W380381] CD4 T\n",
       "\\end{description*}\n",
       "\n",
       "\\emph{Levels}: \\begin{enumerate*}\n",
       "\\item 'CD8 T'\n",
       "\\item 'CD4 T'\n",
       "\\item 'Treg'\n",
       "\\item 'B'\n",
       "\\item 'NK'\n",
       "\\item 'Mono'\n",
       "\\item 'DC'\n",
       "\\end{enumerate*}\n"
      ],
      "text/markdown": [
       "W380370\n",
       ":   CD8 TW380372\n",
       ":   CD4 TW380374\n",
       ":   CD4 TW380378\n",
       ":   CD8 TW380379\n",
       ":   CD4 TW380381\n",
       ":   CD4 T\n",
       "\n",
       "\n",
       "**Levels**: 1. 'CD8 T'\n",
       "2. 'CD4 T'\n",
       "3. 'Treg'\n",
       "4. 'B'\n",
       "5. 'NK'\n",
       "6. 'Mono'\n",
       "7. 'DC'\n",
       "\n",
       "\n"
      ],
      "text/plain": [
       "W380370 W380372 W380374 W380378 W380379 W380381 \n",
       "  CD8 T   CD4 T   CD4 T   CD8 T   CD4 T   CD4 T \n",
       "Levels: CD8 T CD4 T Treg B NK Mono DC"
      ]
     },
     "metadata": {},
     "output_type": "display_data"
    }
   ],
   "source": [
    "head(seuratObj@active.ident)"
   ]
  },
  {
   "cell_type": "code",
   "execution_count": 7,
   "id": "adc93367",
   "metadata": {},
   "outputs": [
    {
     "data": {
      "text/html": [
       "<table class=\"dataframe\">\n",
       "<caption>A data.frame: 6 × 8</caption>\n",
       "<thead>\n",
       "\t<tr><th></th><th scope=col>nGene</th><th scope=col>nUMI</th><th scope=col>orig.ident</th><th scope=col>aggregate</th><th scope=col>res.0.6</th><th scope=col>celltype</th><th scope=col>nCount_RNA</th><th scope=col>nFeature_RNA</th></tr>\n",
       "\t<tr><th></th><th scope=col>&lt;dbl&gt;</th><th scope=col>&lt;dbl&gt;</th><th scope=col>&lt;chr&gt;</th><th scope=col>&lt;chr&gt;</th><th scope=col>&lt;chr&gt;</th><th scope=col>&lt;chr&gt;</th><th scope=col>&lt;dbl&gt;</th><th scope=col>&lt;int&gt;</th></tr>\n",
       "</thead>\n",
       "<tbody>\n",
       "\t<tr><th scope=row>W380370</th><td>880</td><td>1611</td><td>LN_SS</td><td>SS</td><td>1</td><td>CD8 T</td><td>1607</td><td>876</td></tr>\n",
       "\t<tr><th scope=row>W380372</th><td>541</td><td> 891</td><td>LN_SS</td><td>SS</td><td>0</td><td>CD4 T</td><td> 885</td><td>536</td></tr>\n",
       "\t<tr><th scope=row>W380374</th><td>742</td><td>1229</td><td>LN_SS</td><td>SS</td><td>0</td><td>CD4 T</td><td>1223</td><td>737</td></tr>\n",
       "\t<tr><th scope=row>W380378</th><td>847</td><td>1546</td><td>LN_SS</td><td>SS</td><td>1</td><td>CD8 T</td><td>1537</td><td>838</td></tr>\n",
       "\t<tr><th scope=row>W380379</th><td>839</td><td>1606</td><td>LN_SS</td><td>SS</td><td>0</td><td>CD4 T</td><td>1603</td><td>836</td></tr>\n",
       "\t<tr><th scope=row>W380381</th><td>517</td><td> 844</td><td>LN_SS</td><td>SS</td><td>0</td><td>CD4 T</td><td> 840</td><td>513</td></tr>\n",
       "</tbody>\n",
       "</table>\n"
      ],
      "text/latex": [
       "A data.frame: 6 × 8\n",
       "\\begin{tabular}{r|llllllll}\n",
       "  & nGene & nUMI & orig.ident & aggregate & res.0.6 & celltype & nCount\\_RNA & nFeature\\_RNA\\\\\n",
       "  & <dbl> & <dbl> & <chr> & <chr> & <chr> & <chr> & <dbl> & <int>\\\\\n",
       "\\hline\n",
       "\tW380370 & 880 & 1611 & LN\\_SS & SS & 1 & CD8 T & 1607 & 876\\\\\n",
       "\tW380372 & 541 &  891 & LN\\_SS & SS & 0 & CD4 T &  885 & 536\\\\\n",
       "\tW380374 & 742 & 1229 & LN\\_SS & SS & 0 & CD4 T & 1223 & 737\\\\\n",
       "\tW380378 & 847 & 1546 & LN\\_SS & SS & 1 & CD8 T & 1537 & 838\\\\\n",
       "\tW380379 & 839 & 1606 & LN\\_SS & SS & 0 & CD4 T & 1603 & 836\\\\\n",
       "\tW380381 & 517 &  844 & LN\\_SS & SS & 0 & CD4 T &  840 & 513\\\\\n",
       "\\end{tabular}\n"
      ],
      "text/markdown": [
       "\n",
       "A data.frame: 6 × 8\n",
       "\n",
       "| <!--/--> | nGene &lt;dbl&gt; | nUMI &lt;dbl&gt; | orig.ident &lt;chr&gt; | aggregate &lt;chr&gt; | res.0.6 &lt;chr&gt; | celltype &lt;chr&gt; | nCount_RNA &lt;dbl&gt; | nFeature_RNA &lt;int&gt; |\n",
       "|---|---|---|---|---|---|---|---|---|\n",
       "| W380370 | 880 | 1611 | LN_SS | SS | 1 | CD8 T | 1607 | 876 |\n",
       "| W380372 | 541 |  891 | LN_SS | SS | 0 | CD4 T |  885 | 536 |\n",
       "| W380374 | 742 | 1229 | LN_SS | SS | 0 | CD4 T | 1223 | 737 |\n",
       "| W380378 | 847 | 1546 | LN_SS | SS | 1 | CD8 T | 1537 | 838 |\n",
       "| W380379 | 839 | 1606 | LN_SS | SS | 0 | CD4 T | 1603 | 836 |\n",
       "| W380381 | 517 |  844 | LN_SS | SS | 0 | CD4 T |  840 | 513 |\n",
       "\n"
      ],
      "text/plain": [
       "        nGene nUMI orig.ident aggregate res.0.6 celltype nCount_RNA\n",
       "W380370 880   1611 LN_SS      SS        1       CD8 T    1607      \n",
       "W380372 541    891 LN_SS      SS        0       CD4 T     885      \n",
       "W380374 742   1229 LN_SS      SS        0       CD4 T    1223      \n",
       "W380378 847   1546 LN_SS      SS        1       CD8 T    1537      \n",
       "W380379 839   1606 LN_SS      SS        0       CD4 T    1603      \n",
       "W380381 517    844 LN_SS      SS        0       CD4 T     840      \n",
       "        nFeature_RNA\n",
       "W380370 876         \n",
       "W380372 536         \n",
       "W380374 737         \n",
       "W380378 838         \n",
       "W380379 836         \n",
       "W380381 513         "
      ]
     },
     "metadata": {},
     "output_type": "display_data"
    }
   ],
   "source": [
    "head(seuratObj@meta.data)"
   ]
  },
  {
   "cell_type": "code",
   "execution_count": 3,
   "id": "c4c26a7e",
   "metadata": {},
   "outputs": [
    {
     "data": {
      "text/html": [
       "<table class=\"dataframe\">\n",
       "<caption>A matrix: 5 × 5 of type dbl</caption>\n",
       "<thead>\n",
       "\t<tr><th></th><th scope=col>CXCL1</th><th scope=col>CXCL2</th><th scope=col>CXCL3</th><th scope=col>CXCL5</th><th scope=col>PPBP</th></tr>\n",
       "</thead>\n",
       "<tbody>\n",
       "\t<tr><th scope=row>A1BG</th><td>3.534343e-04</td><td>4.041324e-04</td><td>3.729920e-04</td><td>3.080640e-04</td><td>2.628388e-04</td></tr>\n",
       "\t<tr><th scope=row>A1BG-AS1</th><td>1.650894e-04</td><td>1.509213e-04</td><td>1.583594e-04</td><td>1.317253e-04</td><td>1.231819e-04</td></tr>\n",
       "\t<tr><th scope=row>A1CF</th><td>5.787175e-04</td><td>4.596295e-04</td><td>3.895907e-04</td><td>3.293275e-04</td><td>3.211944e-04</td></tr>\n",
       "\t<tr><th scope=row>A2M</th><td>6.027058e-04</td><td>5.996617e-04</td><td>5.164365e-04</td><td>4.517236e-04</td><td>4.590521e-04</td></tr>\n",
       "\t<tr><th scope=row>A2M-AS1</th><td>8.898724e-05</td><td>8.243341e-05</td><td>7.484018e-05</td><td>4.912514e-05</td><td>5.120439e-05</td></tr>\n",
       "</tbody>\n",
       "</table>\n"
      ],
      "text/latex": [
       "A matrix: 5 × 5 of type dbl\n",
       "\\begin{tabular}{r|lllll}\n",
       "  & CXCL1 & CXCL2 & CXCL3 & CXCL5 & PPBP\\\\\n",
       "\\hline\n",
       "\tA1BG & 3.534343e-04 & 4.041324e-04 & 3.729920e-04 & 3.080640e-04 & 2.628388e-04\\\\\n",
       "\tA1BG-AS1 & 1.650894e-04 & 1.509213e-04 & 1.583594e-04 & 1.317253e-04 & 1.231819e-04\\\\\n",
       "\tA1CF & 5.787175e-04 & 4.596295e-04 & 3.895907e-04 & 3.293275e-04 & 3.211944e-04\\\\\n",
       "\tA2M & 6.027058e-04 & 5.996617e-04 & 5.164365e-04 & 4.517236e-04 & 4.590521e-04\\\\\n",
       "\tA2M-AS1 & 8.898724e-05 & 8.243341e-05 & 7.484018e-05 & 4.912514e-05 & 5.120439e-05\\\\\n",
       "\\end{tabular}\n"
      ],
      "text/markdown": [
       "\n",
       "A matrix: 5 × 5 of type dbl\n",
       "\n",
       "| <!--/--> | CXCL1 | CXCL2 | CXCL3 | CXCL5 | PPBP |\n",
       "|---|---|---|---|---|---|\n",
       "| A1BG | 3.534343e-04 | 4.041324e-04 | 3.729920e-04 | 3.080640e-04 | 2.628388e-04 |\n",
       "| A1BG-AS1 | 1.650894e-04 | 1.509213e-04 | 1.583594e-04 | 1.317253e-04 | 1.231819e-04 |\n",
       "| A1CF | 5.787175e-04 | 4.596295e-04 | 3.895907e-04 | 3.293275e-04 | 3.211944e-04 |\n",
       "| A2M | 6.027058e-04 | 5.996617e-04 | 5.164365e-04 | 4.517236e-04 | 4.590521e-04 |\n",
       "| A2M-AS1 | 8.898724e-05 | 8.243341e-05 | 7.484018e-05 | 4.912514e-05 | 5.120439e-05 |\n",
       "\n"
      ],
      "text/plain": [
       "         CXCL1        CXCL2        CXCL3        CXCL5        PPBP        \n",
       "A1BG     3.534343e-04 4.041324e-04 3.729920e-04 3.080640e-04 2.628388e-04\n",
       "A1BG-AS1 1.650894e-04 1.509213e-04 1.583594e-04 1.317253e-04 1.231819e-04\n",
       "A1CF     5.787175e-04 4.596295e-04 3.895907e-04 3.293275e-04 3.211944e-04\n",
       "A2M      6.027058e-04 5.996617e-04 5.164365e-04 4.517236e-04 4.590521e-04\n",
       "A2M-AS1  8.898724e-05 8.243341e-05 7.484018e-05 4.912514e-05 5.120439e-05"
      ]
     },
     "metadata": {},
     "output_type": "display_data"
    }
   ],
   "source": [
    "ligand_target_matrix = readRDS('data/ligand_target_matrix.rds')\n",
    "ligand_target_matrix[1:5,1:5]"
   ]
  },
  {
   "cell_type": "code",
   "execution_count": 4,
   "id": "18248279",
   "metadata": {},
   "outputs": [
    {
     "data": {
      "text/html": [
       "<table class=\"dataframe\">\n",
       "<caption>A tibble: 6 × 4</caption>\n",
       "<thead>\n",
       "\t<tr><th scope=col>from</th><th scope=col>to</th><th scope=col>source</th><th scope=col>database</th></tr>\n",
       "\t<tr><th scope=col>&lt;chr&gt;</th><th scope=col>&lt;chr&gt;</th><th scope=col>&lt;chr&gt;</th><th scope=col>&lt;chr&gt;</th></tr>\n",
       "</thead>\n",
       "<tbody>\n",
       "\t<tr><td>CXCL1</td><td>CXCR2</td><td>kegg_cytokines</td><td>kegg</td></tr>\n",
       "\t<tr><td>CXCL2</td><td>CXCR2</td><td>kegg_cytokines</td><td>kegg</td></tr>\n",
       "\t<tr><td>CXCL3</td><td>CXCR2</td><td>kegg_cytokines</td><td>kegg</td></tr>\n",
       "\t<tr><td>CXCL5</td><td>CXCR2</td><td>kegg_cytokines</td><td>kegg</td></tr>\n",
       "\t<tr><td>PPBP </td><td>CXCR2</td><td>kegg_cytokines</td><td>kegg</td></tr>\n",
       "\t<tr><td>CXCL6</td><td>CXCR2</td><td>kegg_cytokines</td><td>kegg</td></tr>\n",
       "</tbody>\n",
       "</table>\n"
      ],
      "text/latex": [
       "A tibble: 6 × 4\n",
       "\\begin{tabular}{llll}\n",
       " from & to & source & database\\\\\n",
       " <chr> & <chr> & <chr> & <chr>\\\\\n",
       "\\hline\n",
       "\t CXCL1 & CXCR2 & kegg\\_cytokines & kegg\\\\\n",
       "\t CXCL2 & CXCR2 & kegg\\_cytokines & kegg\\\\\n",
       "\t CXCL3 & CXCR2 & kegg\\_cytokines & kegg\\\\\n",
       "\t CXCL5 & CXCR2 & kegg\\_cytokines & kegg\\\\\n",
       "\t PPBP  & CXCR2 & kegg\\_cytokines & kegg\\\\\n",
       "\t CXCL6 & CXCR2 & kegg\\_cytokines & kegg\\\\\n",
       "\\end{tabular}\n"
      ],
      "text/markdown": [
       "\n",
       "A tibble: 6 × 4\n",
       "\n",
       "| from &lt;chr&gt; | to &lt;chr&gt; | source &lt;chr&gt; | database &lt;chr&gt; |\n",
       "|---|---|---|---|\n",
       "| CXCL1 | CXCR2 | kegg_cytokines | kegg |\n",
       "| CXCL2 | CXCR2 | kegg_cytokines | kegg |\n",
       "| CXCL3 | CXCR2 | kegg_cytokines | kegg |\n",
       "| CXCL5 | CXCR2 | kegg_cytokines | kegg |\n",
       "| PPBP  | CXCR2 | kegg_cytokines | kegg |\n",
       "| CXCL6 | CXCR2 | kegg_cytokines | kegg |\n",
       "\n"
      ],
      "text/plain": [
       "  from  to    source         database\n",
       "1 CXCL1 CXCR2 kegg_cytokines kegg    \n",
       "2 CXCL2 CXCR2 kegg_cytokines kegg    \n",
       "3 CXCL3 CXCR2 kegg_cytokines kegg    \n",
       "4 CXCL5 CXCR2 kegg_cytokines kegg    \n",
       "5 PPBP  CXCR2 kegg_cytokines kegg    \n",
       "6 CXCL6 CXCR2 kegg_cytokines kegg    "
      ]
     },
     "metadata": {},
     "output_type": "display_data"
    }
   ],
   "source": [
    "lr_network = readRDS('data/lr_network.rds')\n",
    "head(lr_network)"
   ]
  },
  {
   "cell_type": "code",
   "execution_count": 6,
   "id": "1b6233b6",
   "metadata": {
    "scrolled": true
   },
   "outputs": [
    {
     "data": {
      "text/html": [
       "<table class=\"dataframe\">\n",
       "<caption>A tibble: 6 × 3</caption>\n",
       "<thead>\n",
       "\t<tr><th scope=col>from</th><th scope=col>to</th><th scope=col>weight</th></tr>\n",
       "\t<tr><th scope=col>&lt;chr&gt;</th><th scope=col>&lt;chr&gt;</th><th scope=col>&lt;dbl&gt;</th></tr>\n",
       "</thead>\n",
       "<tbody>\n",
       "\t<tr><td>A1BG</td><td>ABCC6 </td><td>0.42164389</td></tr>\n",
       "\t<tr><td>A1BG</td><td>ACE2  </td><td>0.10074109</td></tr>\n",
       "\t<tr><td>A1BG</td><td>ADAM10</td><td>0.09698978</td></tr>\n",
       "\t<tr><td>A1BG</td><td>AGO1  </td><td>0.05245879</td></tr>\n",
       "\t<tr><td>A1BG</td><td>AKT1  </td><td>0.08553468</td></tr>\n",
       "\t<tr><td>A1BG</td><td>ANXA7 </td><td>0.45659947</td></tr>\n",
       "</tbody>\n",
       "</table>\n"
      ],
      "text/latex": [
       "A tibble: 6 × 3\n",
       "\\begin{tabular}{lll}\n",
       " from & to & weight\\\\\n",
       " <chr> & <chr> & <dbl>\\\\\n",
       "\\hline\n",
       "\t A1BG & ABCC6  & 0.42164389\\\\\n",
       "\t A1BG & ACE2   & 0.10074109\\\\\n",
       "\t A1BG & ADAM10 & 0.09698978\\\\\n",
       "\t A1BG & AGO1   & 0.05245879\\\\\n",
       "\t A1BG & AKT1   & 0.08553468\\\\\n",
       "\t A1BG & ANXA7  & 0.45659947\\\\\n",
       "\\end{tabular}\n"
      ],
      "text/markdown": [
       "\n",
       "A tibble: 6 × 3\n",
       "\n",
       "| from &lt;chr&gt; | to &lt;chr&gt; | weight &lt;dbl&gt; |\n",
       "|---|---|---|\n",
       "| A1BG | ABCC6  | 0.42164389 |\n",
       "| A1BG | ACE2   | 0.10074109 |\n",
       "| A1BG | ADAM10 | 0.09698978 |\n",
       "| A1BG | AGO1   | 0.05245879 |\n",
       "| A1BG | AKT1   | 0.08553468 |\n",
       "| A1BG | ANXA7  | 0.45659947 |\n",
       "\n"
      ],
      "text/plain": [
       "  from to     weight    \n",
       "1 A1BG ABCC6  0.42164389\n",
       "2 A1BG ACE2   0.10074109\n",
       "3 A1BG ADAM10 0.09698978\n",
       "4 A1BG AGO1   0.05245879\n",
       "5 A1BG AKT1   0.08553468\n",
       "6 A1BG ANXA7  0.45659947"
      ]
     },
     "metadata": {},
     "output_type": "display_data"
    }
   ],
   "source": [
    "weighted_networks = readRDS('data/weighted_networks.rds')\n",
    "weighted_networks_lr = weighted_networks$lr_sig %>% \n",
    "    inner_join(lr_network %>% \n",
    "               distinct(from,to), \n",
    "               by = c(\"from\",\"to\"))\n",
    "head(weighted_networks$lr_sig)"
   ]
  },
  {
   "cell_type": "markdown",
   "id": "c9b20a9d",
   "metadata": {},
   "source": [
    "## Define the sender and receiver niches"
   ]
  },
  {
   "cell_type": "code",
   "execution_count": 13,
   "id": "837be488",
   "metadata": {},
   "outputs": [],
   "source": [
    "## receiver\n",
    "receiver = \"CD8+ T cells\"\n",
    "# receiver = \"CD8 T\"\n",
    "expressed_genes_receiver = get_expressed_genes(receiver, seuratObj, pct = 0.10)\n",
    "\n",
    "background_expressed_genes = expressed_genes_receiver %>% \n",
    "    .[. %in% rownames(ligand_target_matrix)]"
   ]
  },
  {
   "cell_type": "code",
   "execution_count": null,
   "id": "227315cf",
   "metadata": {},
   "outputs": [],
   "source": [
    "## sender\n",
    "sender_celltypes = c(\"CD4+ T cells\",\n",
    "                     \"Dendritic cells\", \n",
    "                     \"Regulatory T cells\", \n",
    "                     \"B cells\", \n",
    "                     \"Macrophages\")\n",
    "\n",
    "list_expressed_genes_sender = sender_celltypes %>% \n",
    "    unique() %>% \n",
    "# lapply to get the expressed genes of every sender cell type separately here\n",
    "    lapply(get_expressed_genes, seuratObj, 0.10) \n",
    "expressed_genes_sender = list_expressed_genes_sender %>% \n",
    "    unlist() %>% \n",
    "    unique()"
   ]
  },
  {
   "cell_type": "markdown",
   "id": "121ec507",
   "metadata": {},
   "source": [
    "## Define a gene set of interest"
   ]
  },
  {
   "cell_type": "code",
   "execution_count": 15,
   "id": "e9b1b842",
   "metadata": {},
   "outputs": [
    {
     "data": {
      "text/html": [
       "<table class=\"dataframe\">\n",
       "<caption>A data.frame: 10 × 8</caption>\n",
       "<thead>\n",
       "\t<tr><th></th><th scope=col>nGene</th><th scope=col>nUMI</th><th scope=col>orig.ident</th><th scope=col>aggregate</th><th scope=col>res.0.6</th><th scope=col>celltype</th><th scope=col>nCount_RNA</th><th scope=col>nFeature_RNA</th></tr>\n",
       "\t<tr><th></th><th scope=col>&lt;dbl&gt;</th><th scope=col>&lt;dbl&gt;</th><th scope=col>&lt;chr&gt;</th><th scope=col>&lt;chr&gt;</th><th scope=col>&lt;chr&gt;</th><th scope=col>&lt;chr&gt;</th><th scope=col>&lt;dbl&gt;</th><th scope=col>&lt;int&gt;</th></tr>\n",
       "</thead>\n",
       "<tbody>\n",
       "\t<tr><th scope=row>W380370</th><td> 880</td><td>1611</td><td>LN_SS</td><td>SS</td><td>1</td><td>CD8 T</td><td>1607</td><td> 876</td></tr>\n",
       "\t<tr><th scope=row>W380378</th><td> 847</td><td>1546</td><td>LN_SS</td><td>SS</td><td>1</td><td>CD8 T</td><td>1537</td><td> 838</td></tr>\n",
       "\t<tr><th scope=row>W380386</th><td>1336</td><td>3132</td><td>LN_SS</td><td>SS</td><td>1</td><td>CD8 T</td><td>3118</td><td>1325</td></tr>\n",
       "\t<tr><th scope=row>W380393</th><td>1130</td><td>2377</td><td>LN_SS</td><td>SS</td><td>1</td><td>CD8 T</td><td>2369</td><td>1122</td></tr>\n",
       "\t<tr><th scope=row>W380395</th><td> 948</td><td>1719</td><td>LN_SS</td><td>SS</td><td>1</td><td>CD8 T</td><td>1711</td><td> 941</td></tr>\n",
       "\t<tr><th scope=row>W380401</th><td> 829</td><td>1692</td><td>LN_SS</td><td>SS</td><td>1</td><td>CD8 T</td><td>1686</td><td> 826</td></tr>\n",
       "\t<tr><th scope=row>W380410</th><td> 909</td><td>1797</td><td>LN_SS</td><td>SS</td><td>1</td><td>CD8 T</td><td>1788</td><td> 900</td></tr>\n",
       "\t<tr><th scope=row>W380417</th><td>1125</td><td>2296</td><td>LN_SS</td><td>SS</td><td>1</td><td>CD8 T</td><td>2289</td><td>1118</td></tr>\n",
       "\t<tr><th scope=row>W380418</th><td> 744</td><td>1356</td><td>LN_SS</td><td>SS</td><td>1</td><td>CD8 T</td><td>1353</td><td> 741</td></tr>\n",
       "\t<tr><th scope=row>W380422</th><td> 501</td><td> 781</td><td>LN_SS</td><td>SS</td><td>1</td><td>CD8 T</td><td> 775</td><td> 496</td></tr>\n",
       "</tbody>\n",
       "</table>\n"
      ],
      "text/latex": [
       "A data.frame: 10 × 8\n",
       "\\begin{tabular}{r|llllllll}\n",
       "  & nGene & nUMI & orig.ident & aggregate & res.0.6 & celltype & nCount\\_RNA & nFeature\\_RNA\\\\\n",
       "  & <dbl> & <dbl> & <chr> & <chr> & <chr> & <chr> & <dbl> & <int>\\\\\n",
       "\\hline\n",
       "\tW380370 &  880 & 1611 & LN\\_SS & SS & 1 & CD8 T & 1607 &  876\\\\\n",
       "\tW380378 &  847 & 1546 & LN\\_SS & SS & 1 & CD8 T & 1537 &  838\\\\\n",
       "\tW380386 & 1336 & 3132 & LN\\_SS & SS & 1 & CD8 T & 3118 & 1325\\\\\n",
       "\tW380393 & 1130 & 2377 & LN\\_SS & SS & 1 & CD8 T & 2369 & 1122\\\\\n",
       "\tW380395 &  948 & 1719 & LN\\_SS & SS & 1 & CD8 T & 1711 &  941\\\\\n",
       "\tW380401 &  829 & 1692 & LN\\_SS & SS & 1 & CD8 T & 1686 &  826\\\\\n",
       "\tW380410 &  909 & 1797 & LN\\_SS & SS & 1 & CD8 T & 1788 &  900\\\\\n",
       "\tW380417 & 1125 & 2296 & LN\\_SS & SS & 1 & CD8 T & 2289 & 1118\\\\\n",
       "\tW380418 &  744 & 1356 & LN\\_SS & SS & 1 & CD8 T & 1353 &  741\\\\\n",
       "\tW380422 &  501 &  781 & LN\\_SS & SS & 1 & CD8 T &  775 &  496\\\\\n",
       "\\end{tabular}\n"
      ],
      "text/markdown": [
       "\n",
       "A data.frame: 10 × 8\n",
       "\n",
       "| <!--/--> | nGene &lt;dbl&gt; | nUMI &lt;dbl&gt; | orig.ident &lt;chr&gt; | aggregate &lt;chr&gt; | res.0.6 &lt;chr&gt; | celltype &lt;chr&gt; | nCount_RNA &lt;dbl&gt; | nFeature_RNA &lt;int&gt; |\n",
       "|---|---|---|---|---|---|---|---|---|\n",
       "| W380370 |  880 | 1611 | LN_SS | SS | 1 | CD8 T | 1607 |  876 |\n",
       "| W380378 |  847 | 1546 | LN_SS | SS | 1 | CD8 T | 1537 |  838 |\n",
       "| W380386 | 1336 | 3132 | LN_SS | SS | 1 | CD8 T | 3118 | 1325 |\n",
       "| W380393 | 1130 | 2377 | LN_SS | SS | 1 | CD8 T | 2369 | 1122 |\n",
       "| W380395 |  948 | 1719 | LN_SS | SS | 1 | CD8 T | 1711 |  941 |\n",
       "| W380401 |  829 | 1692 | LN_SS | SS | 1 | CD8 T | 1686 |  826 |\n",
       "| W380410 |  909 | 1797 | LN_SS | SS | 1 | CD8 T | 1788 |  900 |\n",
       "| W380417 | 1125 | 2296 | LN_SS | SS | 1 | CD8 T | 2289 | 1118 |\n",
       "| W380418 |  744 | 1356 | LN_SS | SS | 1 | CD8 T | 1353 |  741 |\n",
       "| W380422 |  501 |  781 | LN_SS | SS | 1 | CD8 T |  775 |  496 |\n",
       "\n"
      ],
      "text/plain": [
       "        nGene nUMI orig.ident aggregate res.0.6 celltype nCount_RNA\n",
       "W380370  880  1611 LN_SS      SS        1       CD8 T    1607      \n",
       "W380378  847  1546 LN_SS      SS        1       CD8 T    1537      \n",
       "W380386 1336  3132 LN_SS      SS        1       CD8 T    3118      \n",
       "W380393 1130  2377 LN_SS      SS        1       CD8 T    2369      \n",
       "W380395  948  1719 LN_SS      SS        1       CD8 T    1711      \n",
       "W380401  829  1692 LN_SS      SS        1       CD8 T    1686      \n",
       "W380410  909  1797 LN_SS      SS        1       CD8 T    1788      \n",
       "W380417 1125  2296 LN_SS      SS        1       CD8 T    2289      \n",
       "W380418  744  1356 LN_SS      SS        1       CD8 T    1353      \n",
       "W380422  501   781 LN_SS      SS        1       CD8 T     775      \n",
       "        nFeature_RNA\n",
       "W380370  876        \n",
       "W380378  838        \n",
       "W380386 1325        \n",
       "W380393 1122        \n",
       "W380395  941        \n",
       "W380401  826        \n",
       "W380410  900        \n",
       "W380417 1118        \n",
       "W380418  741        \n",
       "W380422  496        "
      ]
     },
     "metadata": {},
     "output_type": "display_data"
    }
   ],
   "source": [
    "seurat_obj_receiver = subset(seuratObj, \n",
    "                             idents = receiver)\n",
    "# head(seurat_obj_receiver)\n",
    "seurat_obj_receiver = SetIdent(seurat_obj_receiver, \n",
    "                               value = seurat_obj_receiver[[\"aggregate\"]])\n",
    "\n",
    "condition_oi = \"LCMV\"\n",
    "condition_reference = \"SS\" \n",
    "  \n",
    "DE_table_receiver = FindMarkers(\n",
    "    object = seurat_obj_receiver, \n",
    "    ident.1 = condition_oi, \n",
    "    ident.2 = condition_reference, \n",
    "    min.pct = 0.10\n",
    ") %>% \n",
    "    rownames_to_column(\"gene\")\n",
    "\n",
    "geneset_oi = DE_table_receiver %>% \n",
    "    filter(p_val_adj <= 0.05 & abs(avg_log2FC) >= 0.25) %>% \n",
    "    pull(gene)\n",
    "geneset_oi = geneset_oi %>% \n",
    "    .[. %in% rownames(ligand_target_matrix)]"
   ]
  }
 ],
 "metadata": {
  "kernelspec": {
   "display_name": "R",
   "language": "R",
   "name": "ir"
  },
  "language_info": {
   "codemirror_mode": "r",
   "file_extension": ".r",
   "mimetype": "text/x-r-source",
   "name": "R",
   "pygments_lexer": "r",
   "version": "4.1.2"
  }
 },
 "nbformat": 4,
 "nbformat_minor": 5
}
