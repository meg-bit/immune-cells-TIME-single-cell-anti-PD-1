{
 "cells": [
  {
   "cell_type": "code",
   "execution_count": 1,
   "id": "f6f7de49",
   "metadata": {},
   "outputs": [
    {
     "name": "stderr",
     "output_type": "stream",
     "text": [
      "Attaching SeuratObject\n",
      "\n",
      "── \u001b[1mAttaching packages\u001b[22m ────────────────────────────────────────────── tidyverse 1.3.1 ──\n",
      "\n",
      "\u001b[32m✔\u001b[39m \u001b[34mggplot2\u001b[39m 3.3.5     \u001b[32m✔\u001b[39m \u001b[34mpurrr  \u001b[39m 0.3.4\n",
      "\u001b[32m✔\u001b[39m \u001b[34mtibble \u001b[39m 3.1.6     \u001b[32m✔\u001b[39m \u001b[34mdplyr  \u001b[39m 1.0.8\n",
      "\u001b[32m✔\u001b[39m \u001b[34mtidyr  \u001b[39m 1.2.0     \u001b[32m✔\u001b[39m \u001b[34mstringr\u001b[39m 1.4.0\n",
      "\u001b[32m✔\u001b[39m \u001b[34mreadr  \u001b[39m 2.1.2     \u001b[32m✔\u001b[39m \u001b[34mforcats\u001b[39m 0.5.1\n",
      "\n",
      "── \u001b[1mConflicts\u001b[22m ───────────────────────────────────────────────── tidyverse_conflicts() ──\n",
      "\u001b[31m✖\u001b[39m \u001b[34mdplyr\u001b[39m::\u001b[32mfilter()\u001b[39m masks \u001b[34mstats\u001b[39m::filter()\n",
      "\u001b[31m✖\u001b[39m \u001b[34mdplyr\u001b[39m::\u001b[32mlag()\u001b[39m    masks \u001b[34mstats\u001b[39m::lag()\n",
      "\n"
     ]
    }
   ],
   "source": [
    "library(nichenetr)\n",
    "library(Seurat) # please update to Seurat V4\n",
    "library(tidyverse)"
   ]
  },
  {
   "cell_type": "code",
   "execution_count": 12,
   "id": "773c282a",
   "metadata": {
    "scrolled": true
   },
   "outputs": [
    {
     "data": {
      "text/html": [
       "<table class=\"dataframe\">\n",
       "<caption>A data.frame: 6 × 8</caption>\n",
       "<thead>\n",
       "\t<tr><th></th><th scope=col>nGene</th><th scope=col>nUMI</th><th scope=col>orig.ident</th><th scope=col>aggregate</th><th scope=col>res.0.6</th><th scope=col>celltype</th><th scope=col>nCount_RNA</th><th scope=col>nFeature_RNA</th></tr>\n",
       "\t<tr><th></th><th scope=col>&lt;dbl&gt;</th><th scope=col>&lt;dbl&gt;</th><th scope=col>&lt;chr&gt;</th><th scope=col>&lt;chr&gt;</th><th scope=col>&lt;chr&gt;</th><th scope=col>&lt;chr&gt;</th><th scope=col>&lt;dbl&gt;</th><th scope=col>&lt;int&gt;</th></tr>\n",
       "</thead>\n",
       "<tbody>\n",
       "\t<tr><th scope=row>W380370</th><td>880</td><td>1611</td><td>LN_SS</td><td>SS</td><td>1</td><td>CD8 T</td><td>1607</td><td>876</td></tr>\n",
       "\t<tr><th scope=row>W380372</th><td>541</td><td> 891</td><td>LN_SS</td><td>SS</td><td>0</td><td>CD4 T</td><td> 885</td><td>536</td></tr>\n",
       "\t<tr><th scope=row>W380374</th><td>742</td><td>1229</td><td>LN_SS</td><td>SS</td><td>0</td><td>CD4 T</td><td>1223</td><td>737</td></tr>\n",
       "\t<tr><th scope=row>W380378</th><td>847</td><td>1546</td><td>LN_SS</td><td>SS</td><td>1</td><td>CD8 T</td><td>1537</td><td>838</td></tr>\n",
       "\t<tr><th scope=row>W380379</th><td>839</td><td>1606</td><td>LN_SS</td><td>SS</td><td>0</td><td>CD4 T</td><td>1603</td><td>836</td></tr>\n",
       "\t<tr><th scope=row>W380381</th><td>517</td><td> 844</td><td>LN_SS</td><td>SS</td><td>0</td><td>CD4 T</td><td> 840</td><td>513</td></tr>\n",
       "</tbody>\n",
       "</table>\n"
      ],
      "text/latex": [
       "A data.frame: 6 × 8\n",
       "\\begin{tabular}{r|llllllll}\n",
       "  & nGene & nUMI & orig.ident & aggregate & res.0.6 & celltype & nCount\\_RNA & nFeature\\_RNA\\\\\n",
       "  & <dbl> & <dbl> & <chr> & <chr> & <chr> & <chr> & <dbl> & <int>\\\\\n",
       "\\hline\n",
       "\tW380370 & 880 & 1611 & LN\\_SS & SS & 1 & CD8 T & 1607 & 876\\\\\n",
       "\tW380372 & 541 &  891 & LN\\_SS & SS & 0 & CD4 T &  885 & 536\\\\\n",
       "\tW380374 & 742 & 1229 & LN\\_SS & SS & 0 & CD4 T & 1223 & 737\\\\\n",
       "\tW380378 & 847 & 1546 & LN\\_SS & SS & 1 & CD8 T & 1537 & 838\\\\\n",
       "\tW380379 & 839 & 1606 & LN\\_SS & SS & 0 & CD4 T & 1603 & 836\\\\\n",
       "\tW380381 & 517 &  844 & LN\\_SS & SS & 0 & CD4 T &  840 & 513\\\\\n",
       "\\end{tabular}\n"
      ],
      "text/markdown": [
       "\n",
       "A data.frame: 6 × 8\n",
       "\n",
       "| <!--/--> | nGene &lt;dbl&gt; | nUMI &lt;dbl&gt; | orig.ident &lt;chr&gt; | aggregate &lt;chr&gt; | res.0.6 &lt;chr&gt; | celltype &lt;chr&gt; | nCount_RNA &lt;dbl&gt; | nFeature_RNA &lt;int&gt; |\n",
       "|---|---|---|---|---|---|---|---|---|\n",
       "| W380370 | 880 | 1611 | LN_SS | SS | 1 | CD8 T | 1607 | 876 |\n",
       "| W380372 | 541 |  891 | LN_SS | SS | 0 | CD4 T |  885 | 536 |\n",
       "| W380374 | 742 | 1229 | LN_SS | SS | 0 | CD4 T | 1223 | 737 |\n",
       "| W380378 | 847 | 1546 | LN_SS | SS | 1 | CD8 T | 1537 | 838 |\n",
       "| W380379 | 839 | 1606 | LN_SS | SS | 0 | CD4 T | 1603 | 836 |\n",
       "| W380381 | 517 |  844 | LN_SS | SS | 0 | CD4 T |  840 | 513 |\n",
       "\n"
      ],
      "text/plain": [
       "        nGene nUMI orig.ident aggregate res.0.6 celltype nCount_RNA\n",
       "W380370 880   1611 LN_SS      SS        1       CD8 T    1607      \n",
       "W380372 541    891 LN_SS      SS        0       CD4 T     885      \n",
       "W380374 742   1229 LN_SS      SS        0       CD4 T    1223      \n",
       "W380378 847   1546 LN_SS      SS        1       CD8 T    1537      \n",
       "W380379 839   1606 LN_SS      SS        0       CD4 T    1603      \n",
       "W380381 517    844 LN_SS      SS        0       CD4 T     840      \n",
       "        nFeature_RNA\n",
       "W380370 876         \n",
       "W380372 536         \n",
       "W380374 737         \n",
       "W380378 838         \n",
       "W380379 836         \n",
       "W380381 513         "
      ]
     },
     "metadata": {},
     "output_type": "display_data"
    }
   ],
   "source": [
    "# seuratObj = readRDS('data/seuratObj.rds')\n",
    "# # seuratObj@meta.data = seuratObj@meta.data %>% \n",
    "# #     dplyr::rename(Idents = celltype)\n",
    "# head(seuratObj@meta.data)"
   ]
  },
  {
   "cell_type": "code",
   "execution_count": 8,
   "id": "61769033",
   "metadata": {},
   "outputs": [
    {
     "data": {
      "text/plain": [
       "An object of class Seurat \n",
       "13541 features across 5027 samples within 1 assay \n",
       "Active assay: RNA (13541 features, 1575 variable features)\n",
       " 4 dimensional reductions calculated: cca, cca.aligned, tsne, pca"
      ]
     },
     "metadata": {},
     "output_type": "display_data"
    }
   ],
   "source": [
    "seuratObj"
   ]
  },
  {
   "cell_type": "code",
   "execution_count": 3,
   "id": "2d8587a6",
   "metadata": {},
   "outputs": [
    {
     "data": {
      "text/html": [
       "<table class=\"dataframe\">\n",
       "<caption>A matrix: 5 × 5 of type dbl</caption>\n",
       "<thead>\n",
       "\t<tr><th></th><th scope=col>CXCL1</th><th scope=col>CXCL2</th><th scope=col>CXCL3</th><th scope=col>CXCL5</th><th scope=col>PPBP</th></tr>\n",
       "</thead>\n",
       "<tbody>\n",
       "\t<tr><th scope=row>A1BG</th><td>3.534343e-04</td><td>4.041324e-04</td><td>3.729920e-04</td><td>3.080640e-04</td><td>2.628388e-04</td></tr>\n",
       "\t<tr><th scope=row>A1BG-AS1</th><td>1.650894e-04</td><td>1.509213e-04</td><td>1.583594e-04</td><td>1.317253e-04</td><td>1.231819e-04</td></tr>\n",
       "\t<tr><th scope=row>A1CF</th><td>5.787175e-04</td><td>4.596295e-04</td><td>3.895907e-04</td><td>3.293275e-04</td><td>3.211944e-04</td></tr>\n",
       "\t<tr><th scope=row>A2M</th><td>6.027058e-04</td><td>5.996617e-04</td><td>5.164365e-04</td><td>4.517236e-04</td><td>4.590521e-04</td></tr>\n",
       "\t<tr><th scope=row>A2M-AS1</th><td>8.898724e-05</td><td>8.243341e-05</td><td>7.484018e-05</td><td>4.912514e-05</td><td>5.120439e-05</td></tr>\n",
       "</tbody>\n",
       "</table>\n"
      ],
      "text/latex": [
       "A matrix: 5 × 5 of type dbl\n",
       "\\begin{tabular}{r|lllll}\n",
       "  & CXCL1 & CXCL2 & CXCL3 & CXCL5 & PPBP\\\\\n",
       "\\hline\n",
       "\tA1BG & 3.534343e-04 & 4.041324e-04 & 3.729920e-04 & 3.080640e-04 & 2.628388e-04\\\\\n",
       "\tA1BG-AS1 & 1.650894e-04 & 1.509213e-04 & 1.583594e-04 & 1.317253e-04 & 1.231819e-04\\\\\n",
       "\tA1CF & 5.787175e-04 & 4.596295e-04 & 3.895907e-04 & 3.293275e-04 & 3.211944e-04\\\\\n",
       "\tA2M & 6.027058e-04 & 5.996617e-04 & 5.164365e-04 & 4.517236e-04 & 4.590521e-04\\\\\n",
       "\tA2M-AS1 & 8.898724e-05 & 8.243341e-05 & 7.484018e-05 & 4.912514e-05 & 5.120439e-05\\\\\n",
       "\\end{tabular}\n"
      ],
      "text/markdown": [
       "\n",
       "A matrix: 5 × 5 of type dbl\n",
       "\n",
       "| <!--/--> | CXCL1 | CXCL2 | CXCL3 | CXCL5 | PPBP |\n",
       "|---|---|---|---|---|---|\n",
       "| A1BG | 3.534343e-04 | 4.041324e-04 | 3.729920e-04 | 3.080640e-04 | 2.628388e-04 |\n",
       "| A1BG-AS1 | 1.650894e-04 | 1.509213e-04 | 1.583594e-04 | 1.317253e-04 | 1.231819e-04 |\n",
       "| A1CF | 5.787175e-04 | 4.596295e-04 | 3.895907e-04 | 3.293275e-04 | 3.211944e-04 |\n",
       "| A2M | 6.027058e-04 | 5.996617e-04 | 5.164365e-04 | 4.517236e-04 | 4.590521e-04 |\n",
       "| A2M-AS1 | 8.898724e-05 | 8.243341e-05 | 7.484018e-05 | 4.912514e-05 | 5.120439e-05 |\n",
       "\n"
      ],
      "text/plain": [
       "         CXCL1        CXCL2        CXCL3        CXCL5        PPBP        \n",
       "A1BG     3.534343e-04 4.041324e-04 3.729920e-04 3.080640e-04 2.628388e-04\n",
       "A1BG-AS1 1.650894e-04 1.509213e-04 1.583594e-04 1.317253e-04 1.231819e-04\n",
       "A1CF     5.787175e-04 4.596295e-04 3.895907e-04 3.293275e-04 3.211944e-04\n",
       "A2M      6.027058e-04 5.996617e-04 5.164365e-04 4.517236e-04 4.590521e-04\n",
       "A2M-AS1  8.898724e-05 8.243341e-05 7.484018e-05 4.912514e-05 5.120439e-05"
      ]
     },
     "metadata": {},
     "output_type": "display_data"
    }
   ],
   "source": [
    "ligand_target_matrix = readRDS('data/ligand_target_matrix.rds')\n",
    "ligand_target_matrix[1:5,1:5]"
   ]
  },
  {
   "cell_type": "code",
   "execution_count": 4,
   "id": "ea8e0470",
   "metadata": {},
   "outputs": [
    {
     "data": {
      "text/html": [
       "<table class=\"dataframe\">\n",
       "<caption>A tibble: 6 × 4</caption>\n",
       "<thead>\n",
       "\t<tr><th scope=col>from</th><th scope=col>to</th><th scope=col>source</th><th scope=col>database</th></tr>\n",
       "\t<tr><th scope=col>&lt;chr&gt;</th><th scope=col>&lt;chr&gt;</th><th scope=col>&lt;chr&gt;</th><th scope=col>&lt;chr&gt;</th></tr>\n",
       "</thead>\n",
       "<tbody>\n",
       "\t<tr><td>CXCL1</td><td>CXCR2</td><td>kegg_cytokines</td><td>kegg</td></tr>\n",
       "\t<tr><td>CXCL2</td><td>CXCR2</td><td>kegg_cytokines</td><td>kegg</td></tr>\n",
       "\t<tr><td>CXCL3</td><td>CXCR2</td><td>kegg_cytokines</td><td>kegg</td></tr>\n",
       "\t<tr><td>CXCL5</td><td>CXCR2</td><td>kegg_cytokines</td><td>kegg</td></tr>\n",
       "\t<tr><td>PPBP </td><td>CXCR2</td><td>kegg_cytokines</td><td>kegg</td></tr>\n",
       "\t<tr><td>CXCL6</td><td>CXCR2</td><td>kegg_cytokines</td><td>kegg</td></tr>\n",
       "</tbody>\n",
       "</table>\n"
      ],
      "text/latex": [
       "A tibble: 6 × 4\n",
       "\\begin{tabular}{llll}\n",
       " from & to & source & database\\\\\n",
       " <chr> & <chr> & <chr> & <chr>\\\\\n",
       "\\hline\n",
       "\t CXCL1 & CXCR2 & kegg\\_cytokines & kegg\\\\\n",
       "\t CXCL2 & CXCR2 & kegg\\_cytokines & kegg\\\\\n",
       "\t CXCL3 & CXCR2 & kegg\\_cytokines & kegg\\\\\n",
       "\t CXCL5 & CXCR2 & kegg\\_cytokines & kegg\\\\\n",
       "\t PPBP  & CXCR2 & kegg\\_cytokines & kegg\\\\\n",
       "\t CXCL6 & CXCR2 & kegg\\_cytokines & kegg\\\\\n",
       "\\end{tabular}\n"
      ],
      "text/markdown": [
       "\n",
       "A tibble: 6 × 4\n",
       "\n",
       "| from &lt;chr&gt; | to &lt;chr&gt; | source &lt;chr&gt; | database &lt;chr&gt; |\n",
       "|---|---|---|---|\n",
       "| CXCL1 | CXCR2 | kegg_cytokines | kegg |\n",
       "| CXCL2 | CXCR2 | kegg_cytokines | kegg |\n",
       "| CXCL3 | CXCR2 | kegg_cytokines | kegg |\n",
       "| CXCL5 | CXCR2 | kegg_cytokines | kegg |\n",
       "| PPBP  | CXCR2 | kegg_cytokines | kegg |\n",
       "| CXCL6 | CXCR2 | kegg_cytokines | kegg |\n",
       "\n"
      ],
      "text/plain": [
       "  from  to    source         database\n",
       "1 CXCL1 CXCR2 kegg_cytokines kegg    \n",
       "2 CXCL2 CXCR2 kegg_cytokines kegg    \n",
       "3 CXCL3 CXCR2 kegg_cytokines kegg    \n",
       "4 CXCL5 CXCR2 kegg_cytokines kegg    \n",
       "5 PPBP  CXCR2 kegg_cytokines kegg    \n",
       "6 CXCL6 CXCR2 kegg_cytokines kegg    "
      ]
     },
     "metadata": {},
     "output_type": "display_data"
    }
   ],
   "source": [
    "lr_network = readRDS('data/lr_network.rds')\n",
    "head(lr_network)"
   ]
  },
  {
   "cell_type": "code",
   "execution_count": 6,
   "id": "ce484777",
   "metadata": {
    "scrolled": true
   },
   "outputs": [
    {
     "data": {
      "text/html": [
       "<table class=\"dataframe\">\n",
       "<caption>A tibble: 6 × 3</caption>\n",
       "<thead>\n",
       "\t<tr><th scope=col>from</th><th scope=col>to</th><th scope=col>weight</th></tr>\n",
       "\t<tr><th scope=col>&lt;chr&gt;</th><th scope=col>&lt;chr&gt;</th><th scope=col>&lt;dbl&gt;</th></tr>\n",
       "</thead>\n",
       "<tbody>\n",
       "\t<tr><td>A1BG</td><td>ABCC6 </td><td>0.42164389</td></tr>\n",
       "\t<tr><td>A1BG</td><td>ACE2  </td><td>0.10074109</td></tr>\n",
       "\t<tr><td>A1BG</td><td>ADAM10</td><td>0.09698978</td></tr>\n",
       "\t<tr><td>A1BG</td><td>AGO1  </td><td>0.05245879</td></tr>\n",
       "\t<tr><td>A1BG</td><td>AKT1  </td><td>0.08553468</td></tr>\n",
       "\t<tr><td>A1BG</td><td>ANXA7 </td><td>0.45659947</td></tr>\n",
       "</tbody>\n",
       "</table>\n"
      ],
      "text/latex": [
       "A tibble: 6 × 3\n",
       "\\begin{tabular}{lll}\n",
       " from & to & weight\\\\\n",
       " <chr> & <chr> & <dbl>\\\\\n",
       "\\hline\n",
       "\t A1BG & ABCC6  & 0.42164389\\\\\n",
       "\t A1BG & ACE2   & 0.10074109\\\\\n",
       "\t A1BG & ADAM10 & 0.09698978\\\\\n",
       "\t A1BG & AGO1   & 0.05245879\\\\\n",
       "\t A1BG & AKT1   & 0.08553468\\\\\n",
       "\t A1BG & ANXA7  & 0.45659947\\\\\n",
       "\\end{tabular}\n"
      ],
      "text/markdown": [
       "\n",
       "A tibble: 6 × 3\n",
       "\n",
       "| from &lt;chr&gt; | to &lt;chr&gt; | weight &lt;dbl&gt; |\n",
       "|---|---|---|\n",
       "| A1BG | ABCC6  | 0.42164389 |\n",
       "| A1BG | ACE2   | 0.10074109 |\n",
       "| A1BG | ADAM10 | 0.09698978 |\n",
       "| A1BG | AGO1   | 0.05245879 |\n",
       "| A1BG | AKT1   | 0.08553468 |\n",
       "| A1BG | ANXA7  | 0.45659947 |\n",
       "\n"
      ],
      "text/plain": [
       "  from to     weight    \n",
       "1 A1BG ABCC6  0.42164389\n",
       "2 A1BG ACE2   0.10074109\n",
       "3 A1BG ADAM10 0.09698978\n",
       "4 A1BG AGO1   0.05245879\n",
       "5 A1BG AKT1   0.08553468\n",
       "6 A1BG ANXA7  0.45659947"
      ]
     },
     "metadata": {},
     "output_type": "display_data"
    }
   ],
   "source": [
    "weighted_networks = readRDS('data/weighted_networks.rds')\n",
    "weighted_networks_lr = weighted_networks$lr_sig %>% \n",
    "    inner_join(lr_network %>% \n",
    "               distinct(from,to), \n",
    "               by = c(\"from\",\"to\"))\n",
    "head(weighted_networks$lr_sig)"
   ]
  },
  {
   "cell_type": "markdown",
   "id": "deddcfe8",
   "metadata": {},
   "source": [
    "## Define the sender and receiver niches"
   ]
  },
  {
   "cell_type": "code",
   "execution_count": 13,
   "id": "56501fc3",
   "metadata": {},
   "outputs": [],
   "source": [
    "## receiver\n",
    "receiver = \"CD8+ T cells\"\n",
    "# receiver = \"CD8 T\"\n",
    "expressed_genes_receiver = get_expressed_genes(receiver, seuratObj, pct = 0.10)\n",
    "\n",
    "background_expressed_genes = expressed_genes_receiver %>% \n",
    "    .[. %in% rownames(ligand_target_matrix)]"
   ]
  },
  {
   "cell_type": "code",
   "execution_count": null,
   "id": "62b01457",
   "metadata": {},
   "outputs": [],
   "source": [
    "## sender\n",
    "sender_celltypes = c(\"CD4+ T cells\",\n",
    "                     \"Dendritic cells\", \n",
    "                     \"Regulatory T cells\", \n",
    "                     \"B cells\", \n",
    "                     \"Macrophages\")\n",
    "\n",
    "list_expressed_genes_sender = sender_celltypes %>% \n",
    "    unique() %>% \n",
    "# lapply to get the expressed genes of every sender cell type separately here\n",
    "    lapply(get_expressed_genes, seuratObj, 0.10) \n",
    "expressed_genes_sender = list_expressed_genes_sender %>% \n",
    "    unlist() %>% \n",
    "    unique()"
   ]
  },
  {
   "cell_type": "markdown",
   "id": "983ba19d",
   "metadata": {},
   "source": [
    "## Define a gene set of interest"
   ]
  },
  {
   "cell_type": "code",
   "execution_count": 15,
   "id": "24068062",
   "metadata": {},
   "outputs": [
    {
     "data": {
      "text/html": [
       "<table class=\"dataframe\">\n",
       "<caption>A data.frame: 10 × 8</caption>\n",
       "<thead>\n",
       "\t<tr><th></th><th scope=col>nGene</th><th scope=col>nUMI</th><th scope=col>orig.ident</th><th scope=col>aggregate</th><th scope=col>res.0.6</th><th scope=col>celltype</th><th scope=col>nCount_RNA</th><th scope=col>nFeature_RNA</th></tr>\n",
       "\t<tr><th></th><th scope=col>&lt;dbl&gt;</th><th scope=col>&lt;dbl&gt;</th><th scope=col>&lt;chr&gt;</th><th scope=col>&lt;chr&gt;</th><th scope=col>&lt;chr&gt;</th><th scope=col>&lt;chr&gt;</th><th scope=col>&lt;dbl&gt;</th><th scope=col>&lt;int&gt;</th></tr>\n",
       "</thead>\n",
       "<tbody>\n",
       "\t<tr><th scope=row>W380370</th><td> 880</td><td>1611</td><td>LN_SS</td><td>SS</td><td>1</td><td>CD8 T</td><td>1607</td><td> 876</td></tr>\n",
       "\t<tr><th scope=row>W380378</th><td> 847</td><td>1546</td><td>LN_SS</td><td>SS</td><td>1</td><td>CD8 T</td><td>1537</td><td> 838</td></tr>\n",
       "\t<tr><th scope=row>W380386</th><td>1336</td><td>3132</td><td>LN_SS</td><td>SS</td><td>1</td><td>CD8 T</td><td>3118</td><td>1325</td></tr>\n",
       "\t<tr><th scope=row>W380393</th><td>1130</td><td>2377</td><td>LN_SS</td><td>SS</td><td>1</td><td>CD8 T</td><td>2369</td><td>1122</td></tr>\n",
       "\t<tr><th scope=row>W380395</th><td> 948</td><td>1719</td><td>LN_SS</td><td>SS</td><td>1</td><td>CD8 T</td><td>1711</td><td> 941</td></tr>\n",
       "\t<tr><th scope=row>W380401</th><td> 829</td><td>1692</td><td>LN_SS</td><td>SS</td><td>1</td><td>CD8 T</td><td>1686</td><td> 826</td></tr>\n",
       "\t<tr><th scope=row>W380410</th><td> 909</td><td>1797</td><td>LN_SS</td><td>SS</td><td>1</td><td>CD8 T</td><td>1788</td><td> 900</td></tr>\n",
       "\t<tr><th scope=row>W380417</th><td>1125</td><td>2296</td><td>LN_SS</td><td>SS</td><td>1</td><td>CD8 T</td><td>2289</td><td>1118</td></tr>\n",
       "\t<tr><th scope=row>W380418</th><td> 744</td><td>1356</td><td>LN_SS</td><td>SS</td><td>1</td><td>CD8 T</td><td>1353</td><td> 741</td></tr>\n",
       "\t<tr><th scope=row>W380422</th><td> 501</td><td> 781</td><td>LN_SS</td><td>SS</td><td>1</td><td>CD8 T</td><td> 775</td><td> 496</td></tr>\n",
       "</tbody>\n",
       "</table>\n"
      ],
      "text/latex": [
       "A data.frame: 10 × 8\n",
       "\\begin{tabular}{r|llllllll}\n",
       "  & nGene & nUMI & orig.ident & aggregate & res.0.6 & celltype & nCount\\_RNA & nFeature\\_RNA\\\\\n",
       "  & <dbl> & <dbl> & <chr> & <chr> & <chr> & <chr> & <dbl> & <int>\\\\\n",
       "\\hline\n",
       "\tW380370 &  880 & 1611 & LN\\_SS & SS & 1 & CD8 T & 1607 &  876\\\\\n",
       "\tW380378 &  847 & 1546 & LN\\_SS & SS & 1 & CD8 T & 1537 &  838\\\\\n",
       "\tW380386 & 1336 & 3132 & LN\\_SS & SS & 1 & CD8 T & 3118 & 1325\\\\\n",
       "\tW380393 & 1130 & 2377 & LN\\_SS & SS & 1 & CD8 T & 2369 & 1122\\\\\n",
       "\tW380395 &  948 & 1719 & LN\\_SS & SS & 1 & CD8 T & 1711 &  941\\\\\n",
       "\tW380401 &  829 & 1692 & LN\\_SS & SS & 1 & CD8 T & 1686 &  826\\\\\n",
       "\tW380410 &  909 & 1797 & LN\\_SS & SS & 1 & CD8 T & 1788 &  900\\\\\n",
       "\tW380417 & 1125 & 2296 & LN\\_SS & SS & 1 & CD8 T & 2289 & 1118\\\\\n",
       "\tW380418 &  744 & 1356 & LN\\_SS & SS & 1 & CD8 T & 1353 &  741\\\\\n",
       "\tW380422 &  501 &  781 & LN\\_SS & SS & 1 & CD8 T &  775 &  496\\\\\n",
       "\\end{tabular}\n"
      ],
      "text/markdown": [
       "\n",
       "A data.frame: 10 × 8\n",
       "\n",
       "| <!--/--> | nGene &lt;dbl&gt; | nUMI &lt;dbl&gt; | orig.ident &lt;chr&gt; | aggregate &lt;chr&gt; | res.0.6 &lt;chr&gt; | celltype &lt;chr&gt; | nCount_RNA &lt;dbl&gt; | nFeature_RNA &lt;int&gt; |\n",
       "|---|---|---|---|---|---|---|---|---|\n",
       "| W380370 |  880 | 1611 | LN_SS | SS | 1 | CD8 T | 1607 |  876 |\n",
       "| W380378 |  847 | 1546 | LN_SS | SS | 1 | CD8 T | 1537 |  838 |\n",
       "| W380386 | 1336 | 3132 | LN_SS | SS | 1 | CD8 T | 3118 | 1325 |\n",
       "| W380393 | 1130 | 2377 | LN_SS | SS | 1 | CD8 T | 2369 | 1122 |\n",
       "| W380395 |  948 | 1719 | LN_SS | SS | 1 | CD8 T | 1711 |  941 |\n",
       "| W380401 |  829 | 1692 | LN_SS | SS | 1 | CD8 T | 1686 |  826 |\n",
       "| W380410 |  909 | 1797 | LN_SS | SS | 1 | CD8 T | 1788 |  900 |\n",
       "| W380417 | 1125 | 2296 | LN_SS | SS | 1 | CD8 T | 2289 | 1118 |\n",
       "| W380418 |  744 | 1356 | LN_SS | SS | 1 | CD8 T | 1353 |  741 |\n",
       "| W380422 |  501 |  781 | LN_SS | SS | 1 | CD8 T |  775 |  496 |\n",
       "\n"
      ],
      "text/plain": [
       "        nGene nUMI orig.ident aggregate res.0.6 celltype nCount_RNA\n",
       "W380370  880  1611 LN_SS      SS        1       CD8 T    1607      \n",
       "W380378  847  1546 LN_SS      SS        1       CD8 T    1537      \n",
       "W380386 1336  3132 LN_SS      SS        1       CD8 T    3118      \n",
       "W380393 1130  2377 LN_SS      SS        1       CD8 T    2369      \n",
       "W380395  948  1719 LN_SS      SS        1       CD8 T    1711      \n",
       "W380401  829  1692 LN_SS      SS        1       CD8 T    1686      \n",
       "W380410  909  1797 LN_SS      SS        1       CD8 T    1788      \n",
       "W380417 1125  2296 LN_SS      SS        1       CD8 T    2289      \n",
       "W380418  744  1356 LN_SS      SS        1       CD8 T    1353      \n",
       "W380422  501   781 LN_SS      SS        1       CD8 T     775      \n",
       "        nFeature_RNA\n",
       "W380370  876        \n",
       "W380378  838        \n",
       "W380386 1325        \n",
       "W380393 1122        \n",
       "W380395  941        \n",
       "W380401  826        \n",
       "W380410  900        \n",
       "W380417 1118        \n",
       "W380418  741        \n",
       "W380422  496        "
      ]
     },
     "metadata": {},
     "output_type": "display_data"
    }
   ],
   "source": [
    "seurat_obj_receiver = subset(seuratObj, \n",
    "                             idents = receiver)\n",
    "# head(seurat_obj_receiver)\n",
    "seurat_obj_receiver = SetIdent(seurat_obj_receiver, \n",
    "                               value = seurat_obj_receiver[[\"aggregate\"]])\n",
    "\n",
    "condition_oi = \"LCMV\"\n",
    "condition_reference = \"SS\" \n",
    "  \n",
    "DE_table_receiver = FindMarkers(\n",
    "    object = seurat_obj_receiver, \n",
    "    ident.1 = condition_oi, \n",
    "    ident.2 = condition_reference, \n",
    "    min.pct = 0.10\n",
    ") %>% \n",
    "    rownames_to_column(\"gene\")\n",
    "\n",
    "geneset_oi = DE_table_receiver %>% \n",
    "    filter(p_val_adj <= 0.05 & abs(avg_log2FC) >= 0.25) %>% \n",
    "    pull(gene)\n",
    "geneset_oi = geneset_oi %>% \n",
    "    .[. %in% rownames(ligand_target_matrix)]"
   ]
  }
 ],
 "metadata": {
  "kernelspec": {
   "display_name": "R",
   "language": "R",
   "name": "ir"
  },
  "language_info": {
   "codemirror_mode": "r",
   "file_extension": ".r",
   "mimetype": "text/x-r-source",
   "name": "R",
   "pygments_lexer": "r",
   "version": "4.1.2"
  }
 },
 "nbformat": 4,
 "nbformat_minor": 5
}
